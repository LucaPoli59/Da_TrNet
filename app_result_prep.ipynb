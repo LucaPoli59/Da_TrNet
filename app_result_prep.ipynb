{
 "cells": [
  {
   "cell_type": "code",
   "execution_count": 2,
   "metadata": {
    "collapsed": true,
    "ExecuteTime": {
     "end_time": "2024-02-10T19:24:27.274844100Z",
     "start_time": "2024-02-10T19:24:23.661696600Z"
    }
   },
   "outputs": [],
   "source": [
    "import pandas as pd\n",
    "import networkx as nx\n",
    "import json\n",
    "from fiona.crs import CRS\n",
    "\n",
    "from commons import *"
   ]
  },
  {
   "cell_type": "code",
   "execution_count": 3,
   "outputs": [],
   "source": [
    "graph = load_graph_from_feed()\n",
    "nodes_df, edges_df = graph_to_gdfs(graph)"
   ],
   "metadata": {
    "collapsed": false,
    "ExecuteTime": {
     "end_time": "2024-02-10T19:25:06.517848900Z",
     "start_time": "2024-02-10T19:24:27.277846900Z"
    }
   }
  },
  {
   "cell_type": "code",
   "execution_count": 4,
   "outputs": [],
   "source": [
    "id_name_mapping = nodes_df['name'].to_dict()\n",
    "\n",
    "edges_df['name'] = edges_df.index.to_frame()[['source', 'target']].apply(\n",
    "    lambda x: str(id_name_mapping[x[0]]).replace(\" \", \"_\") + \"<-TO->\" + str(id_name_mapping[x[1]]).replace(\" \", \"_\"), axis=1, raw=True)\n",
    "edges_df['key'] = 0\n",
    "attribute_to_add = edges_df.set_index('key', append=True)['name'].to_dict()\n",
    "\n",
    "nx.set_edge_attributes(graph, attribute_to_add, 'name')"
   ],
   "metadata": {
    "collapsed": false,
    "ExecuteTime": {
     "end_time": "2024-02-10T19:25:06.593847Z",
     "start_time": "2024-02-10T19:25:06.546850700Z"
    }
   }
  },
  {
   "cell_type": "code",
   "execution_count": 5,
   "outputs": [],
   "source": [
    "graph_stats, new_nodes_df = evaluate_graph(graph, nodes_df)\n",
    "graph_stats.index.name = \"metric\"\n",
    "graph_stats.to_csv(os.path.join(RESULTS_PATH, \"graph_stats.csv\"))"
   ],
   "metadata": {
    "collapsed": false,
    "ExecuteTime": {
     "end_time": "2024-02-10T19:25:12.044685100Z",
     "start_time": "2024-02-10T19:25:06.578854100Z"
    }
   }
  },
  {
   "cell_type": "code",
   "execution_count": 6,
   "outputs": [],
   "source": [
    "full_graph = graph.copy()\n",
    "cols = [col for col in new_nodes_df.columns if col not in nodes_df.columns]\n",
    "\n",
    "for col in cols:\n",
    "    nx.set_node_attributes(full_graph, new_nodes_df[col].to_dict(), col)"
   ],
   "metadata": {
    "collapsed": false,
    "ExecuteTime": {
     "end_time": "2024-02-10T19:25:12.044685100Z",
     "start_time": "2024-02-10T19:25:10.070849300Z"
    }
   }
  },
  {
   "cell_type": "code",
   "execution_count": 7,
   "outputs": [],
   "source": [
    "save_graph(graph, os.path.join(RESULTS_PATH, \"graph.json\"))\n",
    "save_graph(full_graph, os.path.join(RESULTS_PATH, \"full_graph.json\"))"
   ],
   "metadata": {
    "collapsed": false,
    "ExecuteTime": {
     "end_time": "2024-02-10T19:25:12.044685100Z",
     "start_time": "2024-02-10T19:25:10.104534Z"
    }
   }
  },
  {
   "cell_type": "code",
   "execution_count": null,
   "outputs": [],
   "source": [],
   "metadata": {
    "collapsed": false
   }
  }
 ],
 "metadata": {
  "kernelspec": {
   "display_name": "Python 3",
   "language": "python",
   "name": "python3"
  },
  "language_info": {
   "codemirror_mode": {
    "name": "ipython",
    "version": 2
   },
   "file_extension": ".py",
   "mimetype": "text/x-python",
   "name": "python",
   "nbconvert_exporter": "python",
   "pygments_lexer": "ipython2",
   "version": "2.7.6"
  }
 },
 "nbformat": 4,
 "nbformat_minor": 0
}
