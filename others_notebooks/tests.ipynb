{
 "cells": [
  {
   "cell_type": "code",
   "execution_count": 3,
   "metadata": {
    "collapsed": true,
    "ExecuteTime": {
     "end_time": "2024-02-15T12:54:14.634966300Z",
     "start_time": "2024-02-15T12:54:11.721981400Z"
    }
   },
   "outputs": [],
   "source": [
    "import pandas as pd\n",
    "import numpy as np\n",
    "\n",
    "import partridge as ptg\n",
    "import peartree as ptr\n",
    "import os\n",
    "import json\n",
    "\n",
    "from commons import *"
   ]
  },
  {
   "cell_type": "code",
   "execution_count": 4,
   "outputs": [],
   "source": [
    "graph = load_graph_from_file(os.path.join(RESULTS_PATH, \"full_graph\"))"
   ],
   "metadata": {
    "collapsed": false,
    "ExecuteTime": {
     "end_time": "2024-02-15T12:54:14.936966500Z",
     "start_time": "2024-02-15T12:54:14.637966800Z"
    }
   }
  },
  {
   "cell_type": "code",
   "execution_count": 5,
   "outputs": [],
   "source": [
    "node_df, edge_df, map_plot = plot_graph_map(graph)"
   ],
   "metadata": {
    "collapsed": false,
    "ExecuteTime": {
     "end_time": "2024-02-15T12:54:15.505965800Z",
     "start_time": "2024-02-15T12:54:14.943972600Z"
    }
   }
  },
  {
   "cell_type": "code",
   "execution_count": 6,
   "outputs": [],
   "source": [
    "t_node_df = prettify_node_df(node_df)"
   ],
   "metadata": {
    "collapsed": false,
    "ExecuteTime": {
     "end_time": "2024-02-15T12:54:15.519972500Z",
     "start_time": "2024-02-15T12:54:15.506967500Z"
    }
   }
  },
  {
   "cell_type": "code",
   "execution_count": 9,
   "outputs": [],
   "source": [
    "attacks_types = [\"random\", \"centrality\", \"centrality_degree\", \"centrality_betweenness\", \"centrality_closeness\",\n",
    "                 \"centrality_eigenvector\", \"centrality_pagerank\"]\n",
    "attacks_results = {attack: pd.read_csv(os.path.join(ATTACKS_PATH, f\"{attack}_{30}.csv\"), index_col=0)\n",
    "                   for attack in attacks_types}"
   ],
   "metadata": {
    "collapsed": false,
    "ExecuteTime": {
     "end_time": "2024-02-15T12:55:37.494205900Z",
     "start_time": "2024-02-15T12:55:37.464180200Z"
    }
   }
  },
  {
   "cell_type": "code",
   "execution_count": 12,
   "outputs": [
    {
     "data": {
      "text/plain": "MultiIndex([('100%',                 'random'),\n            ('100%',             'centrality'),\n            ('100%',      'centrality_degree'),\n            ('100%', 'centrality_betweenness'),\n            ('100%',   'centrality_closeness'),\n            ('100%', 'centrality_eigenvector'),\n            ('100%',    'centrality_pagerank'),\n            ('098%',                 'random'),\n            ('098%',             'centrality'),\n            ('098%',      'centrality_degree'),\n            ...\n            ('018%',   'centrality_closeness'),\n            ('018%', 'centrality_eigenvector'),\n            ('018%',    'centrality_pagerank'),\n            ('015%',                 'random'),\n            ('015%',             'centrality'),\n            ('015%',      'centrality_degree'),\n            ('015%', 'centrality_betweenness'),\n            ('015%',   'centrality_closeness'),\n            ('015%', 'centrality_eigenvector'),\n            ('015%',    'centrality_pagerank')],\n           length=210)"
     },
     "execution_count": 12,
     "metadata": {},
     "output_type": "execute_result"
    }
   ],
   "source": [],
   "metadata": {
    "collapsed": false,
    "ExecuteTime": {
     "end_time": "2024-02-15T12:58:13.389981Z",
     "start_time": "2024-02-15T12:58:13.361693900Z"
    }
   }
  },
  {
   "cell_type": "code",
   "execution_count": 13,
   "outputs": [
    {
     "ename": "ValueError",
     "evalue": "Data must be 1-dimensional, got ndarray of shape (30, 13) instead",
     "output_type": "error",
     "traceback": [
      "\u001B[1;31m---------------------------------------------------------------------------\u001B[0m",
      "\u001B[1;31mValueError\u001B[0m                                Traceback (most recent call last)",
      "Cell \u001B[1;32mIn[13], line 1\u001B[0m\n\u001B[1;32m----> 1\u001B[0m \u001B[43mpd\u001B[49m\u001B[38;5;241;43m.\u001B[39;49m\u001B[43mDataFrame\u001B[49m\u001B[43m(\u001B[49m\u001B[43mattacks_results\u001B[49m\u001B[43m,\u001B[49m\u001B[43m \u001B[49m\u001B[43mindex\u001B[49m\u001B[38;5;241;43m=\u001B[39;49m\u001B[43mpd\u001B[49m\u001B[38;5;241;43m.\u001B[39;49m\u001B[43mMultiIndex\u001B[49m\u001B[38;5;241;43m.\u001B[39;49m\u001B[43mfrom_product\u001B[49m\u001B[43m(\u001B[49m\u001B[43m[\u001B[49m\u001B[43mattacks_results\u001B[49m\u001B[43m[\u001B[49m\u001B[43mattacks_types\u001B[49m\u001B[43m[\u001B[49m\u001B[38;5;241;43m0\u001B[39;49m\u001B[43m]\u001B[49m\u001B[43m]\u001B[49m\u001B[38;5;241;43m.\u001B[39;49m\u001B[43mindex\u001B[49m\u001B[43m,\u001B[49m\u001B[43m \u001B[49m\u001B[43mattacks_types\u001B[49m\u001B[43m]\u001B[49m\u001B[43m)\u001B[49m\u001B[43m)\u001B[49m\n",
      "File \u001B[1;32mF:\\anaconda\\envs\\DA_TrNet\\lib\\site-packages\\pandas\\core\\frame.py:733\u001B[0m, in \u001B[0;36mDataFrame.__init__\u001B[1;34m(self, data, index, columns, dtype, copy)\u001B[0m\n\u001B[0;32m    727\u001B[0m     mgr \u001B[38;5;241m=\u001B[39m \u001B[38;5;28mself\u001B[39m\u001B[38;5;241m.\u001B[39m_init_mgr(\n\u001B[0;32m    728\u001B[0m         data, axes\u001B[38;5;241m=\u001B[39m{\u001B[38;5;124m\"\u001B[39m\u001B[38;5;124mindex\u001B[39m\u001B[38;5;124m\"\u001B[39m: index, \u001B[38;5;124m\"\u001B[39m\u001B[38;5;124mcolumns\u001B[39m\u001B[38;5;124m\"\u001B[39m: columns}, dtype\u001B[38;5;241m=\u001B[39mdtype, copy\u001B[38;5;241m=\u001B[39mcopy\n\u001B[0;32m    729\u001B[0m     )\n\u001B[0;32m    731\u001B[0m \u001B[38;5;28;01melif\u001B[39;00m \u001B[38;5;28misinstance\u001B[39m(data, \u001B[38;5;28mdict\u001B[39m):\n\u001B[0;32m    732\u001B[0m     \u001B[38;5;66;03m# GH#38939 de facto copy defaults to False only in non-dict cases\u001B[39;00m\n\u001B[1;32m--> 733\u001B[0m     mgr \u001B[38;5;241m=\u001B[39m \u001B[43mdict_to_mgr\u001B[49m\u001B[43m(\u001B[49m\u001B[43mdata\u001B[49m\u001B[43m,\u001B[49m\u001B[43m \u001B[49m\u001B[43mindex\u001B[49m\u001B[43m,\u001B[49m\u001B[43m \u001B[49m\u001B[43mcolumns\u001B[49m\u001B[43m,\u001B[49m\u001B[43m \u001B[49m\u001B[43mdtype\u001B[49m\u001B[38;5;241;43m=\u001B[39;49m\u001B[43mdtype\u001B[49m\u001B[43m,\u001B[49m\u001B[43m \u001B[49m\u001B[43mcopy\u001B[49m\u001B[38;5;241;43m=\u001B[39;49m\u001B[43mcopy\u001B[49m\u001B[43m,\u001B[49m\u001B[43m \u001B[49m\u001B[43mtyp\u001B[49m\u001B[38;5;241;43m=\u001B[39;49m\u001B[43mmanager\u001B[49m\u001B[43m)\u001B[49m\n\u001B[0;32m    734\u001B[0m \u001B[38;5;28;01melif\u001B[39;00m \u001B[38;5;28misinstance\u001B[39m(data, ma\u001B[38;5;241m.\u001B[39mMaskedArray):\n\u001B[0;32m    735\u001B[0m     \u001B[38;5;28;01mfrom\u001B[39;00m \u001B[38;5;21;01mnumpy\u001B[39;00m\u001B[38;5;21;01m.\u001B[39;00m\u001B[38;5;21;01mma\u001B[39;00m \u001B[38;5;28;01mimport\u001B[39;00m mrecords\n",
      "File \u001B[1;32mF:\\anaconda\\envs\\DA_TrNet\\lib\\site-packages\\pandas\\core\\internals\\construction.py:503\u001B[0m, in \u001B[0;36mdict_to_mgr\u001B[1;34m(data, index, columns, dtype, typ, copy)\u001B[0m\n\u001B[0;32m    499\u001B[0m     \u001B[38;5;28;01melse\u001B[39;00m:\n\u001B[0;32m    500\u001B[0m         \u001B[38;5;66;03m# dtype check to exclude e.g. range objects, scalars\u001B[39;00m\n\u001B[0;32m    501\u001B[0m         arrays \u001B[38;5;241m=\u001B[39m [x\u001B[38;5;241m.\u001B[39mcopy() \u001B[38;5;28;01mif\u001B[39;00m \u001B[38;5;28mhasattr\u001B[39m(x, \u001B[38;5;124m\"\u001B[39m\u001B[38;5;124mdtype\u001B[39m\u001B[38;5;124m\"\u001B[39m) \u001B[38;5;28;01melse\u001B[39;00m x \u001B[38;5;28;01mfor\u001B[39;00m x \u001B[38;5;129;01min\u001B[39;00m arrays]\n\u001B[1;32m--> 503\u001B[0m \u001B[38;5;28;01mreturn\u001B[39;00m \u001B[43marrays_to_mgr\u001B[49m\u001B[43m(\u001B[49m\u001B[43marrays\u001B[49m\u001B[43m,\u001B[49m\u001B[43m \u001B[49m\u001B[43mcolumns\u001B[49m\u001B[43m,\u001B[49m\u001B[43m \u001B[49m\u001B[43mindex\u001B[49m\u001B[43m,\u001B[49m\u001B[43m \u001B[49m\u001B[43mdtype\u001B[49m\u001B[38;5;241;43m=\u001B[39;49m\u001B[43mdtype\u001B[49m\u001B[43m,\u001B[49m\u001B[43m \u001B[49m\u001B[43mtyp\u001B[49m\u001B[38;5;241;43m=\u001B[39;49m\u001B[43mtyp\u001B[49m\u001B[43m,\u001B[49m\u001B[43m \u001B[49m\u001B[43mconsolidate\u001B[49m\u001B[38;5;241;43m=\u001B[39;49m\u001B[43mcopy\u001B[49m\u001B[43m)\u001B[49m\n",
      "File \u001B[1;32mF:\\anaconda\\envs\\DA_TrNet\\lib\\site-packages\\pandas\\core\\internals\\construction.py:119\u001B[0m, in \u001B[0;36marrays_to_mgr\u001B[1;34m(arrays, columns, index, dtype, verify_integrity, typ, consolidate)\u001B[0m\n\u001B[0;32m    116\u001B[0m         index \u001B[38;5;241m=\u001B[39m ensure_index(index)\n\u001B[0;32m    118\u001B[0m     \u001B[38;5;66;03m# don't force copy because getting jammed in an ndarray anyway\u001B[39;00m\n\u001B[1;32m--> 119\u001B[0m     arrays, refs \u001B[38;5;241m=\u001B[39m \u001B[43m_homogenize\u001B[49m\u001B[43m(\u001B[49m\u001B[43marrays\u001B[49m\u001B[43m,\u001B[49m\u001B[43m \u001B[49m\u001B[43mindex\u001B[49m\u001B[43m,\u001B[49m\u001B[43m \u001B[49m\u001B[43mdtype\u001B[49m\u001B[43m)\u001B[49m\n\u001B[0;32m    120\u001B[0m     \u001B[38;5;66;03m# _homogenize ensures\u001B[39;00m\n\u001B[0;32m    121\u001B[0m     \u001B[38;5;66;03m#  - all(len(x) == len(index) for x in arrays)\u001B[39;00m\n\u001B[0;32m    122\u001B[0m     \u001B[38;5;66;03m#  - all(x.ndim == 1 for x in arrays)\u001B[39;00m\n\u001B[1;32m   (...)\u001B[0m\n\u001B[0;32m    125\u001B[0m \n\u001B[0;32m    126\u001B[0m \u001B[38;5;28;01melse\u001B[39;00m:\n\u001B[0;32m    127\u001B[0m     index \u001B[38;5;241m=\u001B[39m ensure_index(index)\n",
      "File \u001B[1;32mF:\\anaconda\\envs\\DA_TrNet\\lib\\site-packages\\pandas\\core\\internals\\construction.py:629\u001B[0m, in \u001B[0;36m_homogenize\u001B[1;34m(data, index, dtype)\u001B[0m\n\u001B[0;32m    626\u001B[0m         val \u001B[38;5;241m=\u001B[39m \u001B[38;5;28mdict\u001B[39m(val)\n\u001B[0;32m    627\u001B[0m     val \u001B[38;5;241m=\u001B[39m lib\u001B[38;5;241m.\u001B[39mfast_multiget(val, oindex\u001B[38;5;241m.\u001B[39m_values, default\u001B[38;5;241m=\u001B[39mnp\u001B[38;5;241m.\u001B[39mnan)\n\u001B[1;32m--> 629\u001B[0m val \u001B[38;5;241m=\u001B[39m \u001B[43msanitize_array\u001B[49m\u001B[43m(\u001B[49m\u001B[43mval\u001B[49m\u001B[43m,\u001B[49m\u001B[43m \u001B[49m\u001B[43mindex\u001B[49m\u001B[43m,\u001B[49m\u001B[43m \u001B[49m\u001B[43mdtype\u001B[49m\u001B[38;5;241;43m=\u001B[39;49m\u001B[43mdtype\u001B[49m\u001B[43m,\u001B[49m\u001B[43m \u001B[49m\u001B[43mcopy\u001B[49m\u001B[38;5;241;43m=\u001B[39;49m\u001B[38;5;28;43;01mFalse\u001B[39;49;00m\u001B[43m)\u001B[49m\n\u001B[0;32m    630\u001B[0m com\u001B[38;5;241m.\u001B[39mrequire_length_match(val, index)\n\u001B[0;32m    631\u001B[0m refs\u001B[38;5;241m.\u001B[39mappend(\u001B[38;5;28;01mNone\u001B[39;00m)\n",
      "File \u001B[1;32mF:\\anaconda\\envs\\DA_TrNet\\lib\\site-packages\\pandas\\core\\construction.py:632\u001B[0m, in \u001B[0;36msanitize_array\u001B[1;34m(data, index, dtype, copy, allow_2d)\u001B[0m\n\u001B[0;32m    629\u001B[0m \u001B[38;5;28;01melif\u001B[39;00m \u001B[38;5;28mhasattr\u001B[39m(data, \u001B[38;5;124m\"\u001B[39m\u001B[38;5;124m__array__\u001B[39m\u001B[38;5;124m\"\u001B[39m):\n\u001B[0;32m    630\u001B[0m     \u001B[38;5;66;03m# e.g. dask array GH#38645\u001B[39;00m\n\u001B[0;32m    631\u001B[0m     data \u001B[38;5;241m=\u001B[39m np\u001B[38;5;241m.\u001B[39marray(data, copy\u001B[38;5;241m=\u001B[39mcopy)\n\u001B[1;32m--> 632\u001B[0m     \u001B[38;5;28;01mreturn\u001B[39;00m \u001B[43msanitize_array\u001B[49m\u001B[43m(\u001B[49m\n\u001B[0;32m    633\u001B[0m \u001B[43m        \u001B[49m\u001B[43mdata\u001B[49m\u001B[43m,\u001B[49m\n\u001B[0;32m    634\u001B[0m \u001B[43m        \u001B[49m\u001B[43mindex\u001B[49m\u001B[38;5;241;43m=\u001B[39;49m\u001B[43mindex\u001B[49m\u001B[43m,\u001B[49m\n\u001B[0;32m    635\u001B[0m \u001B[43m        \u001B[49m\u001B[43mdtype\u001B[49m\u001B[38;5;241;43m=\u001B[39;49m\u001B[43mdtype\u001B[49m\u001B[43m,\u001B[49m\n\u001B[0;32m    636\u001B[0m \u001B[43m        \u001B[49m\u001B[43mcopy\u001B[49m\u001B[38;5;241;43m=\u001B[39;49m\u001B[38;5;28;43;01mFalse\u001B[39;49;00m\u001B[43m,\u001B[49m\n\u001B[0;32m    637\u001B[0m \u001B[43m        \u001B[49m\u001B[43mallow_2d\u001B[49m\u001B[38;5;241;43m=\u001B[39;49m\u001B[43mallow_2d\u001B[49m\u001B[43m,\u001B[49m\n\u001B[0;32m    638\u001B[0m \u001B[43m    \u001B[49m\u001B[43m)\u001B[49m\n\u001B[0;32m    640\u001B[0m \u001B[38;5;28;01melse\u001B[39;00m:\n\u001B[0;32m    641\u001B[0m     _sanitize_non_ordered(data)\n",
      "File \u001B[1;32mF:\\anaconda\\envs\\DA_TrNet\\lib\\site-packages\\pandas\\core\\construction.py:658\u001B[0m, in \u001B[0;36msanitize_array\u001B[1;34m(data, index, dtype, copy, allow_2d)\u001B[0m\n\u001B[0;32m    655\u001B[0m             subarr \u001B[38;5;241m=\u001B[39m cast(np\u001B[38;5;241m.\u001B[39mndarray, subarr)\n\u001B[0;32m    656\u001B[0m             subarr \u001B[38;5;241m=\u001B[39m maybe_infer_to_datetimelike(subarr)\n\u001B[1;32m--> 658\u001B[0m subarr \u001B[38;5;241m=\u001B[39m \u001B[43m_sanitize_ndim\u001B[49m\u001B[43m(\u001B[49m\u001B[43msubarr\u001B[49m\u001B[43m,\u001B[49m\u001B[43m \u001B[49m\u001B[43mdata\u001B[49m\u001B[43m,\u001B[49m\u001B[43m \u001B[49m\u001B[43mdtype\u001B[49m\u001B[43m,\u001B[49m\u001B[43m \u001B[49m\u001B[43mindex\u001B[49m\u001B[43m,\u001B[49m\u001B[43m \u001B[49m\u001B[43mallow_2d\u001B[49m\u001B[38;5;241;43m=\u001B[39;49m\u001B[43mallow_2d\u001B[49m\u001B[43m)\u001B[49m\n\u001B[0;32m    660\u001B[0m \u001B[38;5;28;01mif\u001B[39;00m \u001B[38;5;28misinstance\u001B[39m(subarr, np\u001B[38;5;241m.\u001B[39mndarray):\n\u001B[0;32m    661\u001B[0m     \u001B[38;5;66;03m# at this point we should have dtype be None or subarr.dtype == dtype\u001B[39;00m\n\u001B[0;32m    662\u001B[0m     dtype \u001B[38;5;241m=\u001B[39m cast(np\u001B[38;5;241m.\u001B[39mdtype, dtype)\n",
      "File \u001B[1;32mF:\\anaconda\\envs\\DA_TrNet\\lib\\site-packages\\pandas\\core\\construction.py:717\u001B[0m, in \u001B[0;36m_sanitize_ndim\u001B[1;34m(result, data, dtype, index, allow_2d)\u001B[0m\n\u001B[0;32m    715\u001B[0m     \u001B[38;5;28;01mif\u001B[39;00m allow_2d:\n\u001B[0;32m    716\u001B[0m         \u001B[38;5;28;01mreturn\u001B[39;00m result\n\u001B[1;32m--> 717\u001B[0m     \u001B[38;5;28;01mraise\u001B[39;00m \u001B[38;5;167;01mValueError\u001B[39;00m(\n\u001B[0;32m    718\u001B[0m         \u001B[38;5;124mf\u001B[39m\u001B[38;5;124m\"\u001B[39m\u001B[38;5;124mData must be 1-dimensional, got ndarray of shape \u001B[39m\u001B[38;5;132;01m{\u001B[39;00mdata\u001B[38;5;241m.\u001B[39mshape\u001B[38;5;132;01m}\u001B[39;00m\u001B[38;5;124m instead\u001B[39m\u001B[38;5;124m\"\u001B[39m\n\u001B[0;32m    719\u001B[0m     )\n\u001B[0;32m    720\u001B[0m \u001B[38;5;28;01mif\u001B[39;00m is_object_dtype(dtype) \u001B[38;5;129;01mand\u001B[39;00m \u001B[38;5;28misinstance\u001B[39m(dtype, ExtensionDtype):\n\u001B[0;32m    721\u001B[0m     \u001B[38;5;66;03m# i.e. NumpyEADtype(\"O\")\u001B[39;00m\n\u001B[0;32m    723\u001B[0m     result \u001B[38;5;241m=\u001B[39m com\u001B[38;5;241m.\u001B[39masarray_tuplesafe(data, dtype\u001B[38;5;241m=\u001B[39mnp\u001B[38;5;241m.\u001B[39mdtype(\u001B[38;5;124m\"\u001B[39m\u001B[38;5;124mobject\u001B[39m\u001B[38;5;124m\"\u001B[39m))\n",
      "\u001B[1;31mValueError\u001B[0m: Data must be 1-dimensional, got ndarray of shape (30, 13) instead"
     ]
    }
   ],
   "source": [
    "pd.DataFrame(attacks_results, index=pd.MultiIndex.from_product([attacks_results[attacks_types[0]].index, attacks_types]))"
   ],
   "metadata": {
    "collapsed": false,
    "ExecuteTime": {
     "end_time": "2024-02-15T12:58:27.072983900Z",
     "start_time": "2024-02-15T12:58:26.918996800Z"
    }
   }
  },
  {
   "cell_type": "code",
   "execution_count": 2,
   "outputs": [
    {
     "name": "stdout",
     "output_type": "stream",
     "text": [
      "{1: 'e', 2: 'b', 3: 'c'}\n"
     ]
    }
   ],
   "source": [
    "a = {1: 'a', 2:'b'}\n",
    "\n",
    "b = {3: 'c', 1:'e'}\n",
    "\n",
    "print(a | b)"
   ],
   "metadata": {
    "collapsed": false,
    "ExecuteTime": {
     "end_time": "2024-02-15T12:34:56.875233800Z",
     "start_time": "2024-02-15T12:34:56.847244400Z"
    }
   }
  },
  {
   "cell_type": "code",
   "execution_count": 5,
   "outputs": [
    {
     "data": {
      "text/plain": "            boarding_cost       name  degree  centrality_degree  \\\nnode_id                                                           \nDB_8700011           1800  Paris Est       6            0.18182   \n\n            centrality_betweenness  centrality_closeness  \\\nnode_id                                                    \nDB_8700011                     0.0               0.00004   \n\n            centrality_eigenvector  centrality_clustering  \\\nnode_id                                                     \nDB_8700011                     0.0                0.07103   \n\n            centrality_pagerank  centrality_degree_scaled  \\\nnode_id                                                     \nDB_8700011              0.00436                   0.18182   \n\n            centrality_betweenness_scaled  centrality_closeness_scaled  \\\nnode_id                                                                  \nDB_8700011                            0.0                      0.56929   \n\n            centrality_eigenvector_scaled  centrality_clustering_scaled  \\\nnode_id                                                                   \nDB_8700011                            0.0                       0.27824   \n\n            centrality_pagerank_scaled  centrality  \nnode_id                                             \nDB_8700011                     0.22361     0.21918  ",
      "text/html": "<div>\n<style scoped>\n    .dataframe tbody tr th:only-of-type {\n        vertical-align: middle;\n    }\n\n    .dataframe tbody tr th {\n        vertical-align: top;\n    }\n\n    .dataframe thead th {\n        text-align: right;\n    }\n</style>\n<table border=\"1\" class=\"dataframe\">\n  <thead>\n    <tr style=\"text-align: right;\">\n      <th></th>\n      <th>boarding_cost</th>\n      <th>name</th>\n      <th>degree</th>\n      <th>centrality_degree</th>\n      <th>centrality_betweenness</th>\n      <th>centrality_closeness</th>\n      <th>centrality_eigenvector</th>\n      <th>centrality_clustering</th>\n      <th>centrality_pagerank</th>\n      <th>centrality_degree_scaled</th>\n      <th>centrality_betweenness_scaled</th>\n      <th>centrality_closeness_scaled</th>\n      <th>centrality_eigenvector_scaled</th>\n      <th>centrality_clustering_scaled</th>\n      <th>centrality_pagerank_scaled</th>\n      <th>centrality</th>\n    </tr>\n    <tr>\n      <th>node_id</th>\n      <th></th>\n      <th></th>\n      <th></th>\n      <th></th>\n      <th></th>\n      <th></th>\n      <th></th>\n      <th></th>\n      <th></th>\n      <th></th>\n      <th></th>\n      <th></th>\n      <th></th>\n      <th></th>\n      <th></th>\n      <th></th>\n    </tr>\n  </thead>\n  <tbody>\n    <tr>\n      <th>DB_8700011</th>\n      <td>1800</td>\n      <td>Paris Est</td>\n      <td>6</td>\n      <td>0.18182</td>\n      <td>0.0</td>\n      <td>0.00004</td>\n      <td>0.0</td>\n      <td>0.07103</td>\n      <td>0.00436</td>\n      <td>0.18182</td>\n      <td>0.0</td>\n      <td>0.56929</td>\n      <td>0.0</td>\n      <td>0.27824</td>\n      <td>0.22361</td>\n      <td>0.21918</td>\n    </tr>\n  </tbody>\n</table>\n</div>"
     },
     "execution_count": 5,
     "metadata": {},
     "output_type": "execute_result"
    }
   ],
   "source": [
    "node_df[node_df['name'] == 'Paris Est']"
   ],
   "metadata": {
    "collapsed": false,
    "ExecuteTime": {
     "end_time": "2024-02-14T21:07:05.156047400Z",
     "start_time": "2024-02-14T21:07:05.121043900Z"
    }
   }
  },
  {
   "cell_type": "code",
   "execution_count": 69,
   "outputs": [
    {
     "data": {
      "text/plain": "            Boarding Cost       Name  Degree    Cent.  Cent. Degree  \\\nnode_id                                                               \nDB_8700011           1800  Paris Est       6  0.18182           0.0   \n\n            Cent. Betweenness  Cent. Closeness  Cent. Eigenvector  \\\nnode_id                                                             \nDB_8700011            0.00004              0.0            0.07103   \n\n            Cent. Clustering  Cent. Pagerank  Cent. Degree R  \\\nnode_id                                                        \nDB_8700011           0.00436         0.18182             0.0   \n\n            Cent. Betweenness R  Cent. Closeness R  Cent. Eigenvector R  \\\nnode_id                                                                   \nDB_8700011              0.56929                0.0              0.27824   \n\n            Cent. Clustering R  Cent. Pagerank R  \nnode_id                                           \nDB_8700011             0.22361           0.21918  ",
      "text/html": "<div>\n<style scoped>\n    .dataframe tbody tr th:only-of-type {\n        vertical-align: middle;\n    }\n\n    .dataframe tbody tr th {\n        vertical-align: top;\n    }\n\n    .dataframe thead th {\n        text-align: right;\n    }\n</style>\n<table border=\"1\" class=\"dataframe\">\n  <thead>\n    <tr style=\"text-align: right;\">\n      <th></th>\n      <th>Boarding Cost</th>\n      <th>Name</th>\n      <th>Degree</th>\n      <th>Cent.</th>\n      <th>Cent. Degree</th>\n      <th>Cent. Betweenness</th>\n      <th>Cent. Closeness</th>\n      <th>Cent. Eigenvector</th>\n      <th>Cent. Clustering</th>\n      <th>Cent. Pagerank</th>\n      <th>Cent. Degree R</th>\n      <th>Cent. Betweenness R</th>\n      <th>Cent. Closeness R</th>\n      <th>Cent. Eigenvector R</th>\n      <th>Cent. Clustering R</th>\n      <th>Cent. Pagerank R</th>\n    </tr>\n    <tr>\n      <th>node_id</th>\n      <th></th>\n      <th></th>\n      <th></th>\n      <th></th>\n      <th></th>\n      <th></th>\n      <th></th>\n      <th></th>\n      <th></th>\n      <th></th>\n      <th></th>\n      <th></th>\n      <th></th>\n      <th></th>\n      <th></th>\n      <th></th>\n    </tr>\n  </thead>\n  <tbody>\n    <tr>\n      <th>DB_8700011</th>\n      <td>1800</td>\n      <td>Paris Est</td>\n      <td>6</td>\n      <td>0.18182</td>\n      <td>0.0</td>\n      <td>0.00004</td>\n      <td>0.0</td>\n      <td>0.07103</td>\n      <td>0.00436</td>\n      <td>0.18182</td>\n      <td>0.0</td>\n      <td>0.56929</td>\n      <td>0.0</td>\n      <td>0.27824</td>\n      <td>0.22361</td>\n      <td>0.21918</td>\n    </tr>\n  </tbody>\n</table>\n</div>"
     },
     "execution_count": 69,
     "metadata": {},
     "output_type": "execute_result"
    }
   ],
   "source": [
    "t_node_df[t_node_df['Name'] == 'Paris Est']"
   ],
   "metadata": {
    "collapsed": false,
    "ExecuteTime": {
     "end_time": "2024-02-12T20:11:24.718370400Z",
     "start_time": "2024-02-12T20:11:24.457299500Z"
    }
   }
  },
  {
   "cell_type": "code",
   "execution_count": 75,
   "outputs": [
    {
     "data": {
      "text/plain": "            boarding_cost                 name  degree  centrality_degree  \\\nnode_id                                                                     \nDB_8000025           1800              Bamberg       9            0.27273   \nDB_8505004           1800          Arth-Goldau       2            0.06061   \nDB_8000253           1800  Mönchengladbach Hbf       4            0.12121   \nDB_8089124           1800  Frankfurt(Oder)(Gr)       4            0.12121   \nDB_8000192           1800     Wanne-Eickel Hbf       4            0.12121   \n...                   ...                  ...     ...                ...   \nDB_8100353           1800       Flughafen Wien       1            0.03030   \nDB_8010355           1800              Velgast       5            0.15152   \nDB_8010033           1800     Bergen auf Rügen       4            0.12121   \nDB_8001338           1800               Coburg       5            0.15152   \nDB_8000105           1800   Frankfurt(Main)Hbf      21            0.63636   \n\n            centrality_betweenness  centrality_closeness  \\\nnode_id                                                    \nDB_8000025                 0.00984               0.00006   \nDB_8505004                 0.02401               0.00004   \nDB_8000253                 0.01115               0.00006   \nDB_8089124                 0.05821               0.00005   \nDB_8000192                 0.03055               0.00006   \n...                            ...                   ...   \nDB_8100353                 0.00000               0.00000   \nDB_8010355                 0.00960               0.00004   \nDB_8010033                 0.00401               0.00004   \nDB_8001338                 0.00000               0.00006   \nDB_8000105                 0.15912               0.00007   \n\n            centrality_eigenvector  centrality_clustering  \\\nnode_id                                                     \nDB_8000025                 0.00273                0.10573   \nDB_8505004                 0.00000                0.00000   \nDB_8000253                 0.00000                0.00000   \nDB_8089124                 0.00000                0.00000   \nDB_8000192                 0.00012                0.01879   \n...                            ...                    ...   \nDB_8100353                -0.00000                0.00000   \nDB_8010355                 0.00000                0.01739   \nDB_8010033                 0.00000                0.00000   \nDB_8001338                 0.00229                0.25085   \nDB_8000105                 0.01039                0.01591   \n\n            centrality_pagerank  centrality_degree_scaled  \\\nnode_id                                                     \nDB_8000025              0.00258                   0.27273   \nDB_8505004              0.00148                   0.06061   \nDB_8000253              0.00122                   0.12121   \nDB_8089124              0.00129                   0.12121   \nDB_8000192              0.00050                   0.12121   \n...                         ...                       ...   \nDB_8100353              0.00032                   0.03030   \nDB_8010355              0.00114                   0.15152   \nDB_8010033              0.00253                   0.12121   \nDB_8001338              0.00170                   0.15152   \nDB_8000105              0.00692                   0.63636   \n\n            centrality_betweenness_scaled  centrality_closeness_scaled  \\\nnode_id                                                                  \nDB_8000025                        0.04059                      0.87475   \nDB_8505004                        0.09904                      0.53737   \nDB_8000253                        0.04598                      0.77024   \nDB_8089124                        0.24010                      0.66277   \nDB_8000192                        0.12603                      0.83547   \n...                                   ...                          ...   \nDB_8100353                        0.00000                      0.00000   \nDB_8010355                        0.03961                      0.55921   \nDB_8010033                        0.01654                      0.52238   \nDB_8001338                        0.00000                      0.86141   \nDB_8000105                        0.65634                      0.96417   \n\n            centrality_eigenvector_scaled  centrality_clustering_scaled  \\\nnode_id                                                                   \nDB_8000025                        0.00476                       0.41414   \nDB_8505004                        0.00000                       0.00000   \nDB_8000253                        0.00000                       0.00000   \nDB_8089124                        0.00000                       0.00000   \nDB_8000192                        0.00022                       0.07361   \n...                                   ...                           ...   \nDB_8100353                       -0.00000                       0.00000   \nDB_8010355                        0.00000                       0.06811   \nDB_8010033                        0.00000                       0.00000   \nDB_8001338                        0.00399                       0.98263   \nDB_8000105                        0.01814                       0.06233   \n\n            centrality_pagerank_scaled  centrality  \nnode_id                                             \nDB_8000025                     0.13239     0.31081  \nDB_8505004                     0.07611     0.13083  \nDB_8000253                     0.06270     0.16982  \nDB_8089124                     0.06628     0.18199  \nDB_8000192                     0.02576     0.20606  \n...                                ...         ...  \nDB_8100353                     0.01666     0.00597  \nDB_8010355                     0.05867     0.14926  \nDB_8010033                     0.12947     0.12964  \nDB_8001338                     0.08723     0.41020  \nDB_8000105                     0.35485     0.42261  \n\n[475 rows x 16 columns]",
      "text/html": "<div>\n<style scoped>\n    .dataframe tbody tr th:only-of-type {\n        vertical-align: middle;\n    }\n\n    .dataframe tbody tr th {\n        vertical-align: top;\n    }\n\n    .dataframe thead th {\n        text-align: right;\n    }\n</style>\n<table border=\"1\" class=\"dataframe\">\n  <thead>\n    <tr style=\"text-align: right;\">\n      <th></th>\n      <th>boarding_cost</th>\n      <th>name</th>\n      <th>degree</th>\n      <th>centrality_degree</th>\n      <th>centrality_betweenness</th>\n      <th>centrality_closeness</th>\n      <th>centrality_eigenvector</th>\n      <th>centrality_clustering</th>\n      <th>centrality_pagerank</th>\n      <th>centrality_degree_scaled</th>\n      <th>centrality_betweenness_scaled</th>\n      <th>centrality_closeness_scaled</th>\n      <th>centrality_eigenvector_scaled</th>\n      <th>centrality_clustering_scaled</th>\n      <th>centrality_pagerank_scaled</th>\n      <th>centrality</th>\n    </tr>\n    <tr>\n      <th>node_id</th>\n      <th></th>\n      <th></th>\n      <th></th>\n      <th></th>\n      <th></th>\n      <th></th>\n      <th></th>\n      <th></th>\n      <th></th>\n      <th></th>\n      <th></th>\n      <th></th>\n      <th></th>\n      <th></th>\n      <th></th>\n      <th></th>\n    </tr>\n  </thead>\n  <tbody>\n    <tr>\n      <th>DB_8000025</th>\n      <td>1800</td>\n      <td>Bamberg</td>\n      <td>9</td>\n      <td>0.27273</td>\n      <td>0.00984</td>\n      <td>0.00006</td>\n      <td>0.00273</td>\n      <td>0.10573</td>\n      <td>0.00258</td>\n      <td>0.27273</td>\n      <td>0.04059</td>\n      <td>0.87475</td>\n      <td>0.00476</td>\n      <td>0.41414</td>\n      <td>0.13239</td>\n      <td>0.31081</td>\n    </tr>\n    <tr>\n      <th>DB_8505004</th>\n      <td>1800</td>\n      <td>Arth-Goldau</td>\n      <td>2</td>\n      <td>0.06061</td>\n      <td>0.02401</td>\n      <td>0.00004</td>\n      <td>0.00000</td>\n      <td>0.00000</td>\n      <td>0.00148</td>\n      <td>0.06061</td>\n      <td>0.09904</td>\n      <td>0.53737</td>\n      <td>0.00000</td>\n      <td>0.00000</td>\n      <td>0.07611</td>\n      <td>0.13083</td>\n    </tr>\n    <tr>\n      <th>DB_8000253</th>\n      <td>1800</td>\n      <td>Mönchengladbach Hbf</td>\n      <td>4</td>\n      <td>0.12121</td>\n      <td>0.01115</td>\n      <td>0.00006</td>\n      <td>0.00000</td>\n      <td>0.00000</td>\n      <td>0.00122</td>\n      <td>0.12121</td>\n      <td>0.04598</td>\n      <td>0.77024</td>\n      <td>0.00000</td>\n      <td>0.00000</td>\n      <td>0.06270</td>\n      <td>0.16982</td>\n    </tr>\n    <tr>\n      <th>DB_8089124</th>\n      <td>1800</td>\n      <td>Frankfurt(Oder)(Gr)</td>\n      <td>4</td>\n      <td>0.12121</td>\n      <td>0.05821</td>\n      <td>0.00005</td>\n      <td>0.00000</td>\n      <td>0.00000</td>\n      <td>0.00129</td>\n      <td>0.12121</td>\n      <td>0.24010</td>\n      <td>0.66277</td>\n      <td>0.00000</td>\n      <td>0.00000</td>\n      <td>0.06628</td>\n      <td>0.18199</td>\n    </tr>\n    <tr>\n      <th>DB_8000192</th>\n      <td>1800</td>\n      <td>Wanne-Eickel Hbf</td>\n      <td>4</td>\n      <td>0.12121</td>\n      <td>0.03055</td>\n      <td>0.00006</td>\n      <td>0.00012</td>\n      <td>0.01879</td>\n      <td>0.00050</td>\n      <td>0.12121</td>\n      <td>0.12603</td>\n      <td>0.83547</td>\n      <td>0.00022</td>\n      <td>0.07361</td>\n      <td>0.02576</td>\n      <td>0.20606</td>\n    </tr>\n    <tr>\n      <th>...</th>\n      <td>...</td>\n      <td>...</td>\n      <td>...</td>\n      <td>...</td>\n      <td>...</td>\n      <td>...</td>\n      <td>...</td>\n      <td>...</td>\n      <td>...</td>\n      <td>...</td>\n      <td>...</td>\n      <td>...</td>\n      <td>...</td>\n      <td>...</td>\n      <td>...</td>\n      <td>...</td>\n    </tr>\n    <tr>\n      <th>DB_8100353</th>\n      <td>1800</td>\n      <td>Flughafen Wien</td>\n      <td>1</td>\n      <td>0.03030</td>\n      <td>0.00000</td>\n      <td>0.00000</td>\n      <td>-0.00000</td>\n      <td>0.00000</td>\n      <td>0.00032</td>\n      <td>0.03030</td>\n      <td>0.00000</td>\n      <td>0.00000</td>\n      <td>-0.00000</td>\n      <td>0.00000</td>\n      <td>0.01666</td>\n      <td>0.00597</td>\n    </tr>\n    <tr>\n      <th>DB_8010355</th>\n      <td>1800</td>\n      <td>Velgast</td>\n      <td>5</td>\n      <td>0.15152</td>\n      <td>0.00960</td>\n      <td>0.00004</td>\n      <td>0.00000</td>\n      <td>0.01739</td>\n      <td>0.00114</td>\n      <td>0.15152</td>\n      <td>0.03961</td>\n      <td>0.55921</td>\n      <td>0.00000</td>\n      <td>0.06811</td>\n      <td>0.05867</td>\n      <td>0.14926</td>\n    </tr>\n    <tr>\n      <th>DB_8010033</th>\n      <td>1800</td>\n      <td>Bergen auf Rügen</td>\n      <td>4</td>\n      <td>0.12121</td>\n      <td>0.00401</td>\n      <td>0.00004</td>\n      <td>0.00000</td>\n      <td>0.00000</td>\n      <td>0.00253</td>\n      <td>0.12121</td>\n      <td>0.01654</td>\n      <td>0.52238</td>\n      <td>0.00000</td>\n      <td>0.00000</td>\n      <td>0.12947</td>\n      <td>0.12964</td>\n    </tr>\n    <tr>\n      <th>DB_8001338</th>\n      <td>1800</td>\n      <td>Coburg</td>\n      <td>5</td>\n      <td>0.15152</td>\n      <td>0.00000</td>\n      <td>0.00006</td>\n      <td>0.00229</td>\n      <td>0.25085</td>\n      <td>0.00170</td>\n      <td>0.15152</td>\n      <td>0.00000</td>\n      <td>0.86141</td>\n      <td>0.00399</td>\n      <td>0.98263</td>\n      <td>0.08723</td>\n      <td>0.41020</td>\n    </tr>\n    <tr>\n      <th>DB_8000105</th>\n      <td>1800</td>\n      <td>Frankfurt(Main)Hbf</td>\n      <td>21</td>\n      <td>0.63636</td>\n      <td>0.15912</td>\n      <td>0.00007</td>\n      <td>0.01039</td>\n      <td>0.01591</td>\n      <td>0.00692</td>\n      <td>0.63636</td>\n      <td>0.65634</td>\n      <td>0.96417</td>\n      <td>0.01814</td>\n      <td>0.06233</td>\n      <td>0.35485</td>\n      <td>0.42261</td>\n    </tr>\n  </tbody>\n</table>\n<p>475 rows × 16 columns</p>\n</div>"
     },
     "execution_count": 75,
     "metadata": {},
     "output_type": "execute_result"
    }
   ],
   "source": [
    "node_df"
   ],
   "metadata": {
    "collapsed": false,
    "ExecuteTime": {
     "end_time": "2024-02-12T20:15:56.895544700Z",
     "start_time": "2024-02-12T20:15:56.843889Z"
    }
   }
  },
  {
   "cell_type": "code",
   "execution_count": 74,
   "outputs": [
    {
     "data": {
      "text/plain": "            Boarding Cost                 Name  Degree    Cent.  Cent. Degree  \\\nnode_id                                                                         \nDB_8000025           1800              Bamberg       9  0.27273       0.00984   \nDB_8505004           1800          Arth-Goldau       2  0.06061       0.02401   \nDB_8000253           1800  Mönchengladbach Hbf       4  0.12121       0.01115   \nDB_8089124           1800  Frankfurt(Oder)(Gr)       4  0.12121       0.05821   \nDB_8000192           1800     Wanne-Eickel Hbf       4  0.12121       0.03055   \n...                   ...                  ...     ...      ...           ...   \nDB_8100353           1800       Flughafen Wien       1  0.03030       0.00000   \nDB_8010355           1800              Velgast       5  0.15152       0.00960   \nDB_8010033           1800     Bergen auf Rügen       4  0.12121       0.00401   \nDB_8001338           1800               Coburg       5  0.15152       0.00000   \nDB_8000105           1800   Frankfurt(Main)Hbf      21  0.63636       0.15912   \n\n            Cent. Betweenness  Cent. Closeness  Cent. Eigenvector  \\\nnode_id                                                             \nDB_8000025            0.00006          0.00273            0.10573   \nDB_8505004            0.00004          0.00000            0.00000   \nDB_8000253            0.00006          0.00000            0.00000   \nDB_8089124            0.00005          0.00000            0.00000   \nDB_8000192            0.00006          0.00012            0.01879   \n...                       ...              ...                ...   \nDB_8100353            0.00000         -0.00000            0.00000   \nDB_8010355            0.00004          0.00000            0.01739   \nDB_8010033            0.00004          0.00000            0.00000   \nDB_8001338            0.00006          0.00229            0.25085   \nDB_8000105            0.00007          0.01039            0.01591   \n\n            Cent. Clustering  Cent. Pagerank  Cent. Degree R  \\\nnode_id                                                        \nDB_8000025           0.00258         0.27273         0.04059   \nDB_8505004           0.00148         0.06061         0.09904   \nDB_8000253           0.00122         0.12121         0.04598   \nDB_8089124           0.00129         0.12121         0.24010   \nDB_8000192           0.00050         0.12121         0.12603   \n...                      ...             ...             ...   \nDB_8100353           0.00032         0.03030         0.00000   \nDB_8010355           0.00114         0.15152         0.03961   \nDB_8010033           0.00253         0.12121         0.01654   \nDB_8001338           0.00170         0.15152         0.00000   \nDB_8000105           0.00692         0.63636         0.65634   \n\n            Cent. Betweenness R  Cent. Closeness R  Cent. Eigenvector R  \\\nnode_id                                                                   \nDB_8000025              0.87475            0.00476              0.41414   \nDB_8505004              0.53737            0.00000              0.00000   \nDB_8000253              0.77024            0.00000              0.00000   \nDB_8089124              0.66277            0.00000              0.00000   \nDB_8000192              0.83547            0.00022              0.07361   \n...                         ...                ...                  ...   \nDB_8100353              0.00000           -0.00000              0.00000   \nDB_8010355              0.55921            0.00000              0.06811   \nDB_8010033              0.52238            0.00000              0.00000   \nDB_8001338              0.86141            0.00399              0.98263   \nDB_8000105              0.96417            0.01814              0.06233   \n\n            Cent. Clustering R  Cent. Pagerank R  \nnode_id                                           \nDB_8000025             0.13239           0.31081  \nDB_8505004             0.07611           0.13083  \nDB_8000253             0.06270           0.16982  \nDB_8089124             0.06628           0.18199  \nDB_8000192             0.02576           0.20606  \n...                        ...               ...  \nDB_8100353             0.01666           0.00597  \nDB_8010355             0.05867           0.14926  \nDB_8010033             0.12947           0.12964  \nDB_8001338             0.08723           0.41020  \nDB_8000105             0.35485           0.42261  \n\n[475 rows x 16 columns]",
      "text/html": "<div>\n<style scoped>\n    .dataframe tbody tr th:only-of-type {\n        vertical-align: middle;\n    }\n\n    .dataframe tbody tr th {\n        vertical-align: top;\n    }\n\n    .dataframe thead th {\n        text-align: right;\n    }\n</style>\n<table border=\"1\" class=\"dataframe\">\n  <thead>\n    <tr style=\"text-align: right;\">\n      <th></th>\n      <th>Boarding Cost</th>\n      <th>Name</th>\n      <th>Degree</th>\n      <th>Cent.</th>\n      <th>Cent. Degree</th>\n      <th>Cent. Betweenness</th>\n      <th>Cent. Closeness</th>\n      <th>Cent. Eigenvector</th>\n      <th>Cent. Clustering</th>\n      <th>Cent. Pagerank</th>\n      <th>Cent. Degree R</th>\n      <th>Cent. Betweenness R</th>\n      <th>Cent. Closeness R</th>\n      <th>Cent. Eigenvector R</th>\n      <th>Cent. Clustering R</th>\n      <th>Cent. Pagerank R</th>\n    </tr>\n    <tr>\n      <th>node_id</th>\n      <th></th>\n      <th></th>\n      <th></th>\n      <th></th>\n      <th></th>\n      <th></th>\n      <th></th>\n      <th></th>\n      <th></th>\n      <th></th>\n      <th></th>\n      <th></th>\n      <th></th>\n      <th></th>\n      <th></th>\n      <th></th>\n    </tr>\n  </thead>\n  <tbody>\n    <tr>\n      <th>DB_8000025</th>\n      <td>1800</td>\n      <td>Bamberg</td>\n      <td>9</td>\n      <td>0.27273</td>\n      <td>0.00984</td>\n      <td>0.00006</td>\n      <td>0.00273</td>\n      <td>0.10573</td>\n      <td>0.00258</td>\n      <td>0.27273</td>\n      <td>0.04059</td>\n      <td>0.87475</td>\n      <td>0.00476</td>\n      <td>0.41414</td>\n      <td>0.13239</td>\n      <td>0.31081</td>\n    </tr>\n    <tr>\n      <th>DB_8505004</th>\n      <td>1800</td>\n      <td>Arth-Goldau</td>\n      <td>2</td>\n      <td>0.06061</td>\n      <td>0.02401</td>\n      <td>0.00004</td>\n      <td>0.00000</td>\n      <td>0.00000</td>\n      <td>0.00148</td>\n      <td>0.06061</td>\n      <td>0.09904</td>\n      <td>0.53737</td>\n      <td>0.00000</td>\n      <td>0.00000</td>\n      <td>0.07611</td>\n      <td>0.13083</td>\n    </tr>\n    <tr>\n      <th>DB_8000253</th>\n      <td>1800</td>\n      <td>Mönchengladbach Hbf</td>\n      <td>4</td>\n      <td>0.12121</td>\n      <td>0.01115</td>\n      <td>0.00006</td>\n      <td>0.00000</td>\n      <td>0.00000</td>\n      <td>0.00122</td>\n      <td>0.12121</td>\n      <td>0.04598</td>\n      <td>0.77024</td>\n      <td>0.00000</td>\n      <td>0.00000</td>\n      <td>0.06270</td>\n      <td>0.16982</td>\n    </tr>\n    <tr>\n      <th>DB_8089124</th>\n      <td>1800</td>\n      <td>Frankfurt(Oder)(Gr)</td>\n      <td>4</td>\n      <td>0.12121</td>\n      <td>0.05821</td>\n      <td>0.00005</td>\n      <td>0.00000</td>\n      <td>0.00000</td>\n      <td>0.00129</td>\n      <td>0.12121</td>\n      <td>0.24010</td>\n      <td>0.66277</td>\n      <td>0.00000</td>\n      <td>0.00000</td>\n      <td>0.06628</td>\n      <td>0.18199</td>\n    </tr>\n    <tr>\n      <th>DB_8000192</th>\n      <td>1800</td>\n      <td>Wanne-Eickel Hbf</td>\n      <td>4</td>\n      <td>0.12121</td>\n      <td>0.03055</td>\n      <td>0.00006</td>\n      <td>0.00012</td>\n      <td>0.01879</td>\n      <td>0.00050</td>\n      <td>0.12121</td>\n      <td>0.12603</td>\n      <td>0.83547</td>\n      <td>0.00022</td>\n      <td>0.07361</td>\n      <td>0.02576</td>\n      <td>0.20606</td>\n    </tr>\n    <tr>\n      <th>...</th>\n      <td>...</td>\n      <td>...</td>\n      <td>...</td>\n      <td>...</td>\n      <td>...</td>\n      <td>...</td>\n      <td>...</td>\n      <td>...</td>\n      <td>...</td>\n      <td>...</td>\n      <td>...</td>\n      <td>...</td>\n      <td>...</td>\n      <td>...</td>\n      <td>...</td>\n      <td>...</td>\n    </tr>\n    <tr>\n      <th>DB_8100353</th>\n      <td>1800</td>\n      <td>Flughafen Wien</td>\n      <td>1</td>\n      <td>0.03030</td>\n      <td>0.00000</td>\n      <td>0.00000</td>\n      <td>-0.00000</td>\n      <td>0.00000</td>\n      <td>0.00032</td>\n      <td>0.03030</td>\n      <td>0.00000</td>\n      <td>0.00000</td>\n      <td>-0.00000</td>\n      <td>0.00000</td>\n      <td>0.01666</td>\n      <td>0.00597</td>\n    </tr>\n    <tr>\n      <th>DB_8010355</th>\n      <td>1800</td>\n      <td>Velgast</td>\n      <td>5</td>\n      <td>0.15152</td>\n      <td>0.00960</td>\n      <td>0.00004</td>\n      <td>0.00000</td>\n      <td>0.01739</td>\n      <td>0.00114</td>\n      <td>0.15152</td>\n      <td>0.03961</td>\n      <td>0.55921</td>\n      <td>0.00000</td>\n      <td>0.06811</td>\n      <td>0.05867</td>\n      <td>0.14926</td>\n    </tr>\n    <tr>\n      <th>DB_8010033</th>\n      <td>1800</td>\n      <td>Bergen auf Rügen</td>\n      <td>4</td>\n      <td>0.12121</td>\n      <td>0.00401</td>\n      <td>0.00004</td>\n      <td>0.00000</td>\n      <td>0.00000</td>\n      <td>0.00253</td>\n      <td>0.12121</td>\n      <td>0.01654</td>\n      <td>0.52238</td>\n      <td>0.00000</td>\n      <td>0.00000</td>\n      <td>0.12947</td>\n      <td>0.12964</td>\n    </tr>\n    <tr>\n      <th>DB_8001338</th>\n      <td>1800</td>\n      <td>Coburg</td>\n      <td>5</td>\n      <td>0.15152</td>\n      <td>0.00000</td>\n      <td>0.00006</td>\n      <td>0.00229</td>\n      <td>0.25085</td>\n      <td>0.00170</td>\n      <td>0.15152</td>\n      <td>0.00000</td>\n      <td>0.86141</td>\n      <td>0.00399</td>\n      <td>0.98263</td>\n      <td>0.08723</td>\n      <td>0.41020</td>\n    </tr>\n    <tr>\n      <th>DB_8000105</th>\n      <td>1800</td>\n      <td>Frankfurt(Main)Hbf</td>\n      <td>21</td>\n      <td>0.63636</td>\n      <td>0.15912</td>\n      <td>0.00007</td>\n      <td>0.01039</td>\n      <td>0.01591</td>\n      <td>0.00692</td>\n      <td>0.63636</td>\n      <td>0.65634</td>\n      <td>0.96417</td>\n      <td>0.01814</td>\n      <td>0.06233</td>\n      <td>0.35485</td>\n      <td>0.42261</td>\n    </tr>\n  </tbody>\n</table>\n<p>475 rows × 16 columns</p>\n</div>"
     },
     "execution_count": 74,
     "metadata": {},
     "output_type": "execute_result"
    }
   ],
   "source": [
    "t_node_df"
   ],
   "metadata": {
    "collapsed": false,
    "ExecuteTime": {
     "end_time": "2024-02-12T20:15:17.256381700Z",
     "start_time": "2024-02-12T20:15:17.219354400Z"
    }
   }
  },
  {
   "cell_type": "code",
   "execution_count": 77,
   "outputs": [
    {
     "data": {
      "text/plain": "            boarding_cost                 name  degree  centrality  \\\nnode_id                                                              \nDB_8000025           1800              Bamberg       9     0.31081   \nDB_8505004           1800          Arth-Goldau       2     0.13083   \nDB_8000253           1800  Mönchengladbach Hbf       4     0.16982   \nDB_8089124           1800  Frankfurt(Oder)(Gr)       4     0.18199   \nDB_8000192           1800     Wanne-Eickel Hbf       4     0.20606   \n...                   ...                  ...     ...         ...   \nDB_8100353           1800       Flughafen Wien       1     0.00597   \nDB_8010355           1800              Velgast       5     0.14926   \nDB_8010033           1800     Bergen auf Rügen       4     0.12964   \nDB_8001338           1800               Coburg       5     0.41020   \nDB_8000105           1800   Frankfurt(Main)Hbf      21     0.42261   \n\n            centrality_degree  centrality_betweenness  centrality_closeness  \\\nnode_id                                                                       \nDB_8000025            0.27273                 0.00984               0.00006   \nDB_8505004            0.06061                 0.02401               0.00004   \nDB_8000253            0.12121                 0.01115               0.00006   \nDB_8089124            0.12121                 0.05821               0.00005   \nDB_8000192            0.12121                 0.03055               0.00006   \n...                       ...                     ...                   ...   \nDB_8100353            0.03030                 0.00000               0.00000   \nDB_8010355            0.15152                 0.00960               0.00004   \nDB_8010033            0.12121                 0.00401               0.00004   \nDB_8001338            0.15152                 0.00000               0.00006   \nDB_8000105            0.63636                 0.15912               0.00007   \n\n            centrality_eigenvector  centrality_clustering  \\\nnode_id                                                     \nDB_8000025                 0.00273                0.10573   \nDB_8505004                 0.00000                0.00000   \nDB_8000253                 0.00000                0.00000   \nDB_8089124                 0.00000                0.00000   \nDB_8000192                 0.00012                0.01879   \n...                            ...                    ...   \nDB_8100353                -0.00000                0.00000   \nDB_8010355                 0.00000                0.01739   \nDB_8010033                 0.00000                0.00000   \nDB_8001338                 0.00229                0.25085   \nDB_8000105                 0.01039                0.01591   \n\n            centrality_pagerank  centrality_degree_scaled  \\\nnode_id                                                     \nDB_8000025              0.00258                   0.27273   \nDB_8505004              0.00148                   0.06061   \nDB_8000253              0.00122                   0.12121   \nDB_8089124              0.00129                   0.12121   \nDB_8000192              0.00050                   0.12121   \n...                         ...                       ...   \nDB_8100353              0.00032                   0.03030   \nDB_8010355              0.00114                   0.15152   \nDB_8010033              0.00253                   0.12121   \nDB_8001338              0.00170                   0.15152   \nDB_8000105              0.00692                   0.63636   \n\n            centrality_betweenness_scaled  centrality_closeness_scaled  \\\nnode_id                                                                  \nDB_8000025                        0.04059                      0.87475   \nDB_8505004                        0.09904                      0.53737   \nDB_8000253                        0.04598                      0.77024   \nDB_8089124                        0.24010                      0.66277   \nDB_8000192                        0.12603                      0.83547   \n...                                   ...                          ...   \nDB_8100353                        0.00000                      0.00000   \nDB_8010355                        0.03961                      0.55921   \nDB_8010033                        0.01654                      0.52238   \nDB_8001338                        0.00000                      0.86141   \nDB_8000105                        0.65634                      0.96417   \n\n            centrality_eigenvector_scaled  centrality_clustering_scaled  \\\nnode_id                                                                   \nDB_8000025                        0.00476                       0.41414   \nDB_8505004                        0.00000                       0.00000   \nDB_8000253                        0.00000                       0.00000   \nDB_8089124                        0.00000                       0.00000   \nDB_8000192                        0.00022                       0.07361   \n...                                   ...                           ...   \nDB_8100353                       -0.00000                       0.00000   \nDB_8010355                        0.00000                       0.06811   \nDB_8010033                        0.00000                       0.00000   \nDB_8001338                        0.00399                       0.98263   \nDB_8000105                        0.01814                       0.06233   \n\n            centrality_pagerank_scaled  \nnode_id                                 \nDB_8000025                     0.13239  \nDB_8505004                     0.07611  \nDB_8000253                     0.06270  \nDB_8089124                     0.06628  \nDB_8000192                     0.02576  \n...                                ...  \nDB_8100353                     0.01666  \nDB_8010355                     0.05867  \nDB_8010033                     0.12947  \nDB_8001338                     0.08723  \nDB_8000105                     0.35485  \n\n[475 rows x 16 columns]",
      "text/html": "<div>\n<style scoped>\n    .dataframe tbody tr th:only-of-type {\n        vertical-align: middle;\n    }\n\n    .dataframe tbody tr th {\n        vertical-align: top;\n    }\n\n    .dataframe thead th {\n        text-align: right;\n    }\n</style>\n<table border=\"1\" class=\"dataframe\">\n  <thead>\n    <tr style=\"text-align: right;\">\n      <th></th>\n      <th>boarding_cost</th>\n      <th>name</th>\n      <th>degree</th>\n      <th>centrality</th>\n      <th>centrality_degree</th>\n      <th>centrality_betweenness</th>\n      <th>centrality_closeness</th>\n      <th>centrality_eigenvector</th>\n      <th>centrality_clustering</th>\n      <th>centrality_pagerank</th>\n      <th>centrality_degree_scaled</th>\n      <th>centrality_betweenness_scaled</th>\n      <th>centrality_closeness_scaled</th>\n      <th>centrality_eigenvector_scaled</th>\n      <th>centrality_clustering_scaled</th>\n      <th>centrality_pagerank_scaled</th>\n    </tr>\n    <tr>\n      <th>node_id</th>\n      <th></th>\n      <th></th>\n      <th></th>\n      <th></th>\n      <th></th>\n      <th></th>\n      <th></th>\n      <th></th>\n      <th></th>\n      <th></th>\n      <th></th>\n      <th></th>\n      <th></th>\n      <th></th>\n      <th></th>\n      <th></th>\n    </tr>\n  </thead>\n  <tbody>\n    <tr>\n      <th>DB_8000025</th>\n      <td>1800</td>\n      <td>Bamberg</td>\n      <td>9</td>\n      <td>0.31081</td>\n      <td>0.27273</td>\n      <td>0.00984</td>\n      <td>0.00006</td>\n      <td>0.00273</td>\n      <td>0.10573</td>\n      <td>0.00258</td>\n      <td>0.27273</td>\n      <td>0.04059</td>\n      <td>0.87475</td>\n      <td>0.00476</td>\n      <td>0.41414</td>\n      <td>0.13239</td>\n    </tr>\n    <tr>\n      <th>DB_8505004</th>\n      <td>1800</td>\n      <td>Arth-Goldau</td>\n      <td>2</td>\n      <td>0.13083</td>\n      <td>0.06061</td>\n      <td>0.02401</td>\n      <td>0.00004</td>\n      <td>0.00000</td>\n      <td>0.00000</td>\n      <td>0.00148</td>\n      <td>0.06061</td>\n      <td>0.09904</td>\n      <td>0.53737</td>\n      <td>0.00000</td>\n      <td>0.00000</td>\n      <td>0.07611</td>\n    </tr>\n    <tr>\n      <th>DB_8000253</th>\n      <td>1800</td>\n      <td>Mönchengladbach Hbf</td>\n      <td>4</td>\n      <td>0.16982</td>\n      <td>0.12121</td>\n      <td>0.01115</td>\n      <td>0.00006</td>\n      <td>0.00000</td>\n      <td>0.00000</td>\n      <td>0.00122</td>\n      <td>0.12121</td>\n      <td>0.04598</td>\n      <td>0.77024</td>\n      <td>0.00000</td>\n      <td>0.00000</td>\n      <td>0.06270</td>\n    </tr>\n    <tr>\n      <th>DB_8089124</th>\n      <td>1800</td>\n      <td>Frankfurt(Oder)(Gr)</td>\n      <td>4</td>\n      <td>0.18199</td>\n      <td>0.12121</td>\n      <td>0.05821</td>\n      <td>0.00005</td>\n      <td>0.00000</td>\n      <td>0.00000</td>\n      <td>0.00129</td>\n      <td>0.12121</td>\n      <td>0.24010</td>\n      <td>0.66277</td>\n      <td>0.00000</td>\n      <td>0.00000</td>\n      <td>0.06628</td>\n    </tr>\n    <tr>\n      <th>DB_8000192</th>\n      <td>1800</td>\n      <td>Wanne-Eickel Hbf</td>\n      <td>4</td>\n      <td>0.20606</td>\n      <td>0.12121</td>\n      <td>0.03055</td>\n      <td>0.00006</td>\n      <td>0.00012</td>\n      <td>0.01879</td>\n      <td>0.00050</td>\n      <td>0.12121</td>\n      <td>0.12603</td>\n      <td>0.83547</td>\n      <td>0.00022</td>\n      <td>0.07361</td>\n      <td>0.02576</td>\n    </tr>\n    <tr>\n      <th>...</th>\n      <td>...</td>\n      <td>...</td>\n      <td>...</td>\n      <td>...</td>\n      <td>...</td>\n      <td>...</td>\n      <td>...</td>\n      <td>...</td>\n      <td>...</td>\n      <td>...</td>\n      <td>...</td>\n      <td>...</td>\n      <td>...</td>\n      <td>...</td>\n      <td>...</td>\n      <td>...</td>\n    </tr>\n    <tr>\n      <th>DB_8100353</th>\n      <td>1800</td>\n      <td>Flughafen Wien</td>\n      <td>1</td>\n      <td>0.00597</td>\n      <td>0.03030</td>\n      <td>0.00000</td>\n      <td>0.00000</td>\n      <td>-0.00000</td>\n      <td>0.00000</td>\n      <td>0.00032</td>\n      <td>0.03030</td>\n      <td>0.00000</td>\n      <td>0.00000</td>\n      <td>-0.00000</td>\n      <td>0.00000</td>\n      <td>0.01666</td>\n    </tr>\n    <tr>\n      <th>DB_8010355</th>\n      <td>1800</td>\n      <td>Velgast</td>\n      <td>5</td>\n      <td>0.14926</td>\n      <td>0.15152</td>\n      <td>0.00960</td>\n      <td>0.00004</td>\n      <td>0.00000</td>\n      <td>0.01739</td>\n      <td>0.00114</td>\n      <td>0.15152</td>\n      <td>0.03961</td>\n      <td>0.55921</td>\n      <td>0.00000</td>\n      <td>0.06811</td>\n      <td>0.05867</td>\n    </tr>\n    <tr>\n      <th>DB_8010033</th>\n      <td>1800</td>\n      <td>Bergen auf Rügen</td>\n      <td>4</td>\n      <td>0.12964</td>\n      <td>0.12121</td>\n      <td>0.00401</td>\n      <td>0.00004</td>\n      <td>0.00000</td>\n      <td>0.00000</td>\n      <td>0.00253</td>\n      <td>0.12121</td>\n      <td>0.01654</td>\n      <td>0.52238</td>\n      <td>0.00000</td>\n      <td>0.00000</td>\n      <td>0.12947</td>\n    </tr>\n    <tr>\n      <th>DB_8001338</th>\n      <td>1800</td>\n      <td>Coburg</td>\n      <td>5</td>\n      <td>0.41020</td>\n      <td>0.15152</td>\n      <td>0.00000</td>\n      <td>0.00006</td>\n      <td>0.00229</td>\n      <td>0.25085</td>\n      <td>0.00170</td>\n      <td>0.15152</td>\n      <td>0.00000</td>\n      <td>0.86141</td>\n      <td>0.00399</td>\n      <td>0.98263</td>\n      <td>0.08723</td>\n    </tr>\n    <tr>\n      <th>DB_8000105</th>\n      <td>1800</td>\n      <td>Frankfurt(Main)Hbf</td>\n      <td>21</td>\n      <td>0.42261</td>\n      <td>0.63636</td>\n      <td>0.15912</td>\n      <td>0.00007</td>\n      <td>0.01039</td>\n      <td>0.01591</td>\n      <td>0.00692</td>\n      <td>0.63636</td>\n      <td>0.65634</td>\n      <td>0.96417</td>\n      <td>0.01814</td>\n      <td>0.06233</td>\n      <td>0.35485</td>\n    </tr>\n  </tbody>\n</table>\n<p>475 rows × 16 columns</p>\n</div>"
     },
     "execution_count": 77,
     "metadata": {},
     "output_type": "execute_result"
    }
   ],
   "source": [
    "tmp = node_df.copy()\n",
    "node_cols = node_df.columns.to_list()\n",
    "node_cols = node_cols[:3] + [node_cols[-1]] + node_cols[3:-1]\n",
    "tmp[node_cols]"
   ],
   "metadata": {
    "collapsed": false,
    "ExecuteTime": {
     "end_time": "2024-02-12T20:19:06.940857200Z",
     "start_time": "2024-02-12T20:19:06.908859800Z"
    }
   }
  },
  {
   "cell_type": "code",
   "execution_count": 73,
   "outputs": [
    {
     "data": {
      "text/plain": "            centrality  centrality_degree  centrality_betweenness  \\\nnode_id                                                             \nDB_8000025     0.27273            0.00984                 0.00006   \nDB_8505004     0.06061            0.02401                 0.00004   \nDB_8000253     0.12121            0.01115                 0.00006   \nDB_8089124     0.12121            0.05821                 0.00005   \nDB_8000192     0.12121            0.03055                 0.00006   \n...                ...                ...                     ...   \nDB_8100353     0.03030            0.00000                 0.00000   \nDB_8010355     0.15152            0.00960                 0.00004   \nDB_8010033     0.12121            0.00401                 0.00004   \nDB_8001338     0.15152            0.00000                 0.00006   \nDB_8000105     0.63636            0.15912                 0.00007   \n\n            centrality_closeness  centrality_eigenvector  \\\nnode_id                                                    \nDB_8000025               0.00273                 0.10573   \nDB_8505004               0.00000                 0.00000   \nDB_8000253               0.00000                 0.00000   \nDB_8089124               0.00000                 0.00000   \nDB_8000192               0.00012                 0.01879   \n...                          ...                     ...   \nDB_8100353              -0.00000                 0.00000   \nDB_8010355               0.00000                 0.01739   \nDB_8010033               0.00000                 0.00000   \nDB_8001338               0.00229                 0.25085   \nDB_8000105               0.01039                 0.01591   \n\n            centrality_clustering  centrality_pagerank  \\\nnode_id                                                  \nDB_8000025                0.00258              0.27273   \nDB_8505004                0.00148              0.06061   \nDB_8000253                0.00122              0.12121   \nDB_8089124                0.00129              0.12121   \nDB_8000192                0.00050              0.12121   \n...                           ...                  ...   \nDB_8100353                0.00032              0.03030   \nDB_8010355                0.00114              0.15152   \nDB_8010033                0.00253              0.12121   \nDB_8001338                0.00170              0.15152   \nDB_8000105                0.00692              0.63636   \n\n            centrality_degree_scaled  centrality_betweenness_scaled  \\\nnode_id                                                               \nDB_8000025                   0.04059                        0.87475   \nDB_8505004                   0.09904                        0.53737   \nDB_8000253                   0.04598                        0.77024   \nDB_8089124                   0.24010                        0.66277   \nDB_8000192                   0.12603                        0.83547   \n...                              ...                            ...   \nDB_8100353                   0.00000                        0.00000   \nDB_8010355                   0.03961                        0.55921   \nDB_8010033                   0.01654                        0.52238   \nDB_8001338                   0.00000                        0.86141   \nDB_8000105                   0.65634                        0.96417   \n\n            centrality_closeness_scaled  centrality_eigenvector_scaled  \\\nnode_id                                                                  \nDB_8000025                      0.00476                        0.41414   \nDB_8505004                      0.00000                        0.00000   \nDB_8000253                      0.00000                        0.00000   \nDB_8089124                      0.00000                        0.00000   \nDB_8000192                      0.00022                        0.07361   \n...                                 ...                            ...   \nDB_8100353                     -0.00000                        0.00000   \nDB_8010355                      0.00000                        0.06811   \nDB_8010033                      0.00000                        0.00000   \nDB_8001338                      0.00399                        0.98263   \nDB_8000105                      0.01814                        0.06233   \n\n            centrality_clustering_scaled  centrality_pagerank_scaled  \nnode_id                                                               \nDB_8000025                       0.13239                     0.31081  \nDB_8505004                       0.07611                     0.13083  \nDB_8000253                       0.06270                     0.16982  \nDB_8089124                       0.06628                     0.18199  \nDB_8000192                       0.02576                     0.20606  \n...                                  ...                         ...  \nDB_8100353                       0.01666                     0.00597  \nDB_8010355                       0.05867                     0.14926  \nDB_8010033                       0.12947                     0.12964  \nDB_8001338                       0.08723                     0.41020  \nDB_8000105                       0.35485                     0.42261  \n\n[475 rows x 13 columns]",
      "text/html": "<div>\n<style scoped>\n    .dataframe tbody tr th:only-of-type {\n        vertical-align: middle;\n    }\n\n    .dataframe tbody tr th {\n        vertical-align: top;\n    }\n\n    .dataframe thead th {\n        text-align: right;\n    }\n</style>\n<table border=\"1\" class=\"dataframe\">\n  <thead>\n    <tr style=\"text-align: right;\">\n      <th></th>\n      <th>centrality</th>\n      <th>centrality_degree</th>\n      <th>centrality_betweenness</th>\n      <th>centrality_closeness</th>\n      <th>centrality_eigenvector</th>\n      <th>centrality_clustering</th>\n      <th>centrality_pagerank</th>\n      <th>centrality_degree_scaled</th>\n      <th>centrality_betweenness_scaled</th>\n      <th>centrality_closeness_scaled</th>\n      <th>centrality_eigenvector_scaled</th>\n      <th>centrality_clustering_scaled</th>\n      <th>centrality_pagerank_scaled</th>\n    </tr>\n    <tr>\n      <th>node_id</th>\n      <th></th>\n      <th></th>\n      <th></th>\n      <th></th>\n      <th></th>\n      <th></th>\n      <th></th>\n      <th></th>\n      <th></th>\n      <th></th>\n      <th></th>\n      <th></th>\n      <th></th>\n    </tr>\n  </thead>\n  <tbody>\n    <tr>\n      <th>DB_8000025</th>\n      <td>0.27273</td>\n      <td>0.00984</td>\n      <td>0.00006</td>\n      <td>0.00273</td>\n      <td>0.10573</td>\n      <td>0.00258</td>\n      <td>0.27273</td>\n      <td>0.04059</td>\n      <td>0.87475</td>\n      <td>0.00476</td>\n      <td>0.41414</td>\n      <td>0.13239</td>\n      <td>0.31081</td>\n    </tr>\n    <tr>\n      <th>DB_8505004</th>\n      <td>0.06061</td>\n      <td>0.02401</td>\n      <td>0.00004</td>\n      <td>0.00000</td>\n      <td>0.00000</td>\n      <td>0.00148</td>\n      <td>0.06061</td>\n      <td>0.09904</td>\n      <td>0.53737</td>\n      <td>0.00000</td>\n      <td>0.00000</td>\n      <td>0.07611</td>\n      <td>0.13083</td>\n    </tr>\n    <tr>\n      <th>DB_8000253</th>\n      <td>0.12121</td>\n      <td>0.01115</td>\n      <td>0.00006</td>\n      <td>0.00000</td>\n      <td>0.00000</td>\n      <td>0.00122</td>\n      <td>0.12121</td>\n      <td>0.04598</td>\n      <td>0.77024</td>\n      <td>0.00000</td>\n      <td>0.00000</td>\n      <td>0.06270</td>\n      <td>0.16982</td>\n    </tr>\n    <tr>\n      <th>DB_8089124</th>\n      <td>0.12121</td>\n      <td>0.05821</td>\n      <td>0.00005</td>\n      <td>0.00000</td>\n      <td>0.00000</td>\n      <td>0.00129</td>\n      <td>0.12121</td>\n      <td>0.24010</td>\n      <td>0.66277</td>\n      <td>0.00000</td>\n      <td>0.00000</td>\n      <td>0.06628</td>\n      <td>0.18199</td>\n    </tr>\n    <tr>\n      <th>DB_8000192</th>\n      <td>0.12121</td>\n      <td>0.03055</td>\n      <td>0.00006</td>\n      <td>0.00012</td>\n      <td>0.01879</td>\n      <td>0.00050</td>\n      <td>0.12121</td>\n      <td>0.12603</td>\n      <td>0.83547</td>\n      <td>0.00022</td>\n      <td>0.07361</td>\n      <td>0.02576</td>\n      <td>0.20606</td>\n    </tr>\n    <tr>\n      <th>...</th>\n      <td>...</td>\n      <td>...</td>\n      <td>...</td>\n      <td>...</td>\n      <td>...</td>\n      <td>...</td>\n      <td>...</td>\n      <td>...</td>\n      <td>...</td>\n      <td>...</td>\n      <td>...</td>\n      <td>...</td>\n      <td>...</td>\n    </tr>\n    <tr>\n      <th>DB_8100353</th>\n      <td>0.03030</td>\n      <td>0.00000</td>\n      <td>0.00000</td>\n      <td>-0.00000</td>\n      <td>0.00000</td>\n      <td>0.00032</td>\n      <td>0.03030</td>\n      <td>0.00000</td>\n      <td>0.00000</td>\n      <td>-0.00000</td>\n      <td>0.00000</td>\n      <td>0.01666</td>\n      <td>0.00597</td>\n    </tr>\n    <tr>\n      <th>DB_8010355</th>\n      <td>0.15152</td>\n      <td>0.00960</td>\n      <td>0.00004</td>\n      <td>0.00000</td>\n      <td>0.01739</td>\n      <td>0.00114</td>\n      <td>0.15152</td>\n      <td>0.03961</td>\n      <td>0.55921</td>\n      <td>0.00000</td>\n      <td>0.06811</td>\n      <td>0.05867</td>\n      <td>0.14926</td>\n    </tr>\n    <tr>\n      <th>DB_8010033</th>\n      <td>0.12121</td>\n      <td>0.00401</td>\n      <td>0.00004</td>\n      <td>0.00000</td>\n      <td>0.00000</td>\n      <td>0.00253</td>\n      <td>0.12121</td>\n      <td>0.01654</td>\n      <td>0.52238</td>\n      <td>0.00000</td>\n      <td>0.00000</td>\n      <td>0.12947</td>\n      <td>0.12964</td>\n    </tr>\n    <tr>\n      <th>DB_8001338</th>\n      <td>0.15152</td>\n      <td>0.00000</td>\n      <td>0.00006</td>\n      <td>0.00229</td>\n      <td>0.25085</td>\n      <td>0.00170</td>\n      <td>0.15152</td>\n      <td>0.00000</td>\n      <td>0.86141</td>\n      <td>0.00399</td>\n      <td>0.98263</td>\n      <td>0.08723</td>\n      <td>0.41020</td>\n    </tr>\n    <tr>\n      <th>DB_8000105</th>\n      <td>0.63636</td>\n      <td>0.15912</td>\n      <td>0.00007</td>\n      <td>0.01039</td>\n      <td>0.01591</td>\n      <td>0.00692</td>\n      <td>0.63636</td>\n      <td>0.65634</td>\n      <td>0.96417</td>\n      <td>0.01814</td>\n      <td>0.06233</td>\n      <td>0.35485</td>\n      <td>0.42261</td>\n    </tr>\n  </tbody>\n</table>\n<p>475 rows × 13 columns</p>\n</div>"
     },
     "execution_count": 73,
     "metadata": {},
     "output_type": "execute_result"
    }
   ],
   "source": [
    "tmp.iloc[:, 3:].round(5)"
   ],
   "metadata": {
    "collapsed": false,
    "ExecuteTime": {
     "end_time": "2024-02-12T20:14:21.504751800Z",
     "start_time": "2024-02-12T20:14:21.459404300Z"
    }
   }
  },
  {
   "cell_type": "code",
   "execution_count": 26,
   "outputs": [],
   "source": [
    "graph_stats = pd.read_csv(os.path.join(RESULTS_PATH, \"graph_stats.csv\"), index_col=\"metric\")\n"
   ],
   "metadata": {
    "collapsed": false,
    "ExecuteTime": {
     "end_time": "2024-02-14T13:32:17.882386400Z",
     "start_time": "2024-02-14T13:32:17.868386800Z"
    }
   }
  },
  {
   "cell_type": "code",
   "execution_count": 14,
   "outputs": [
    {
     "data": {
      "text/plain": "Index(['Nodes', 'Edges', 'Density', 'Strong Giant Component',\n       'Weak Giant Component', 'Avg Degree', 'Centrality Mean',\n       'Centrality Degree Mean', 'Centrality Betweenness Mean',\n       'Centrality Closeness Mean', 'Centrality Eigenvector Mean',\n       'Clustering Coefficient Mean', 'Pagerank Mean'],\n      dtype='object', name='metric')"
     },
     "execution_count": 14,
     "metadata": {},
     "output_type": "execute_result"
    }
   ],
   "source": [
    "\n",
    "graph_stats.rename(columns=rename_dict).columns.str.replace(\"_\", \" \").str.replace(\"GC\", \"giant component\").str.title()"
   ],
   "metadata": {
    "collapsed": false,
    "ExecuteTime": {
     "end_time": "2024-02-14T13:29:36.577790600Z",
     "start_time": "2024-02-14T13:29:36.543790100Z"
    }
   }
  },
  {
   "cell_type": "code",
   "execution_count": 16,
   "outputs": [],
   "source": [
    "graph_stats = graph_stats.round(5)"
   ],
   "metadata": {
    "collapsed": false,
    "ExecuteTime": {
     "end_time": "2024-02-14T13:30:08.848795300Z",
     "start_time": "2024-02-14T13:30:08.820971200Z"
    }
   }
  },
  {
   "cell_type": "code",
   "execution_count": 24,
   "outputs": [],
   "source": [],
   "metadata": {
    "collapsed": false,
    "ExecuteTime": {
     "end_time": "2024-02-14T13:32:10.042927800Z",
     "start_time": "2024-02-14T13:32:10.029890600Z"
    }
   }
  },
  {
   "cell_type": "code",
   "execution_count": 29,
   "outputs": [
    {
     "data": {
      "text/plain": "                 global_measures\nmetric                          \nnodes                 475.000000\nedges                1179.000000\ndensity                 0.005237\nstrong_GC               0.922105\nweak_GC                 0.978947\navg_degree              4.964211\nglobal_c_mean           0.190509\nglobal_cd_mean          0.150431\nglobal_cb_mean          0.024181\nglobal_cc_mean          0.000047\nglobal_ce_mean          0.008300\nglobal_ccc_mean         0.023053\nglobal_cp_mean          0.002105",
      "text/html": "<div>\n<style scoped>\n    .dataframe tbody tr th:only-of-type {\n        vertical-align: middle;\n    }\n\n    .dataframe tbody tr th {\n        vertical-align: top;\n    }\n\n    .dataframe thead th {\n        text-align: right;\n    }\n</style>\n<table border=\"1\" class=\"dataframe\">\n  <thead>\n    <tr style=\"text-align: right;\">\n      <th></th>\n      <th>global_measures</th>\n    </tr>\n    <tr>\n      <th>metric</th>\n      <th></th>\n    </tr>\n  </thead>\n  <tbody>\n    <tr>\n      <th>nodes</th>\n      <td>475.000000</td>\n    </tr>\n    <tr>\n      <th>edges</th>\n      <td>1179.000000</td>\n    </tr>\n    <tr>\n      <th>density</th>\n      <td>0.005237</td>\n    </tr>\n    <tr>\n      <th>strong_GC</th>\n      <td>0.922105</td>\n    </tr>\n    <tr>\n      <th>weak_GC</th>\n      <td>0.978947</td>\n    </tr>\n    <tr>\n      <th>avg_degree</th>\n      <td>4.964211</td>\n    </tr>\n    <tr>\n      <th>global_c_mean</th>\n      <td>0.190509</td>\n    </tr>\n    <tr>\n      <th>global_cd_mean</th>\n      <td>0.150431</td>\n    </tr>\n    <tr>\n      <th>global_cb_mean</th>\n      <td>0.024181</td>\n    </tr>\n    <tr>\n      <th>global_cc_mean</th>\n      <td>0.000047</td>\n    </tr>\n    <tr>\n      <th>global_ce_mean</th>\n      <td>0.008300</td>\n    </tr>\n    <tr>\n      <th>global_ccc_mean</th>\n      <td>0.023053</td>\n    </tr>\n    <tr>\n      <th>global_cp_mean</th>\n      <td>0.002105</td>\n    </tr>\n  </tbody>\n</table>\n</div>"
     },
     "execution_count": 29,
     "metadata": {},
     "output_type": "execute_result"
    }
   ],
   "source": [
    "graph_stats"
   ],
   "metadata": {
    "collapsed": false,
    "ExecuteTime": {
     "end_time": "2024-02-14T14:11:34.519832300Z",
     "start_time": "2024-02-14T14:11:34.490828500Z"
    }
   }
  },
  {
   "cell_type": "code",
   "execution_count": 33,
   "outputs": [
    {
     "data": {
      "text/plain": "5"
     },
     "execution_count": 33,
     "metadata": {},
     "output_type": "execute_result"
    }
   ],
   "source": [
    "tmp = prettify_graph_stats(graph_stats)\n",
    "tmp = pd.concat([tmp]*5, ignore_index=True)\n",
    "len(tmp.to_dict(orient=\"records\"))"
   ],
   "metadata": {
    "collapsed": false,
    "ExecuteTime": {
     "end_time": "2024-02-14T14:12:46.943278900Z",
     "start_time": "2024-02-14T14:12:46.926284Z"
    }
   }
  },
  {
   "cell_type": "code",
   "execution_count": 6,
   "outputs": [],
   "source": [
    "\n",
    "\n",
    "n_steps = 20\n",
    "attacks_types = [\"random\", \"centrality\", \"centrality_degree\", \"centrality_betweenness\", \"centrality_closeness\",\n",
    "                 \"centrality_eigenvector\", \"centrality_pagerank\"]\n",
    "attacks_results = {attack: pd.read_csv(os.path.join(ATTACKS_PATH, f\"{attack}_{n_steps}.csv\"), index_col=0)\n",
    "                   for attack in attacks_types}"
   ],
   "metadata": {
    "collapsed": false,
    "ExecuteTime": {
     "end_time": "2024-02-14T21:07:15.798766Z",
     "start_time": "2024-02-14T21:07:15.772993300Z"
    }
   }
  },
  {
   "cell_type": "code",
   "execution_count": 7,
   "outputs": [
    {
     "data": {
      "text/plain": "      Nodes   Edges   Density  Strong Giant Component  Weak Giant Component  \\\n100%  475.0  1179.0  0.005237                0.922105              0.978947   \n096%  453.0  1042.0  0.005089                0.752759              0.834437   \n091%  431.0   963.0  0.005196                0.675174              0.742459   \n087%  409.0   894.0  0.005357                0.621027              0.704156   \n082%  387.0   823.0  0.005509                0.604651              0.684755   \n077%  365.0   763.0  0.005743                0.586301              0.660274   \n073%  343.0   673.0  0.005737                0.530612              0.603499   \n068%  321.0   597.0  0.005812                0.476636              0.532710   \n063%  299.0   513.0  0.005757                0.414716              0.468227   \n059%  277.0   440.0  0.005755                0.382671              0.436823   \n054%  255.0   365.0  0.005635                0.164706              0.188235   \n050%  233.0   301.0  0.005568                0.137339              0.154506   \n045%  211.0   223.0  0.005033                0.056872              0.071090   \n040%  189.0   177.0  0.004981                0.058201              0.063492   \n036%  167.0   136.0  0.004906                0.065868              0.065868   \n031%  145.0   115.0  0.005508                0.075862              0.075862   \n026%  123.0    76.0  0.005065                0.048780              0.048780   \n022%  101.0    51.0  0.005050                0.049505              0.049505   \n017%   79.0    38.0  0.006167                0.050633              0.050633   \n012%   57.0    19.0  0.005952                0.070175              0.070175   \n\n      Avg Degree  Centrality Mean [Scaled]  Centrality Degree Mean  \\\n100%    4.964211                  0.190509                0.150431   \n096%    4.600442                  0.179347                0.158636   \n091%    4.468677                  0.165778                0.165507   \n087%    4.371638                  0.164604                0.174866   \n082%    4.253230                  0.162386                0.170129   \n077%    4.180822                  0.159292                0.167233   \n073%    3.924198                  0.142276                0.170617   \n068%    3.719626                  0.141987                0.177125   \n063%    3.431438                  0.133211                0.163402   \n059%    3.176895                  0.134273                0.176494   \n054%    2.862745                  0.106822                0.178922   \n050%    2.583691                  0.097991                0.161481   \n045%    2.113744                  0.112639                0.234860   \n040%    1.873016                  0.104724                0.208113   \n036%    1.628743                  0.093086                0.180971   \n031%    1.586207                  0.095431                0.176245   \n026%    1.235772                  0.080174                0.176539   \n022%    1.009901                  0.000000                0.168317   \n017%    0.962025                  0.000000                0.240506   \n012%    0.666667                  0.000000                0.166667   \n\n      Centrality Betweenness Mean  Centrality Closeness Mean  \\\n100%                     0.024181                   0.000047   \n096%                     0.016814                   0.000035   \n091%                     0.012703                   0.000031   \n087%                     0.010976                   0.000029   \n082%                     0.010441                   0.000028   \n077%                     0.009834                   0.000027   \n073%                     0.008806                   0.000021   \n068%                     0.006124                   0.000018   \n063%                     0.005561                   0.000015   \n059%                     0.005054                   0.000013   \n054%                     0.001014                   0.000009   \n050%                     0.000586                   0.000008   \n045%                     0.000107                   0.000006   \n040%                     0.000098                   0.000006   \n036%                     0.000104                   0.000006   \n031%                     0.000142                   0.000007   \n026%                     0.000050                   0.000006   \n022%                     0.000030                   0.000006   \n017%                     0.000036                   0.000006   \n012%                     0.000063                   0.000007   \n\n      Centrality Eigenvector Mean  Clustering Coefficient Mean  Pagerank Mean  \n100%                     0.008300                     0.023053       0.002105  \n096%                     0.011144                     0.026011       0.002208  \n091%                     0.011666                     0.026390       0.002320  \n087%                     0.012311                     0.026568       0.002445  \n082%                     0.012884                     0.027054       0.002584  \n077%                     0.013630                     0.027253       0.002740  \n073%                     0.014136                     0.025786       0.002915  \n068%                     0.014714                     0.025523       0.003115  \n063%                     0.014770                     0.023370       0.003344  \n059%                     0.015548                     0.019767       0.003610  \n054%                     0.010493                     0.024499       0.003922  \n050%                     0.011484                     0.021883       0.004292  \n045%                     0.010639                     0.020764       0.004739  \n040%                     0.011878                     0.021193       0.005291  \n036%                     0.013442                     0.014802       0.005988  \n031%                     0.015482                     0.007310       0.006897  \n026%                     0.011669                     0.004465       0.008130  \n022%                     0.014210                     0.000000       0.009901  \n017%                     0.018168                     0.000000       0.012658  \n012%                     0.030029                     0.000000       0.017544  ",
      "text/html": "<div>\n<style scoped>\n    .dataframe tbody tr th:only-of-type {\n        vertical-align: middle;\n    }\n\n    .dataframe tbody tr th {\n        vertical-align: top;\n    }\n\n    .dataframe thead th {\n        text-align: right;\n    }\n</style>\n<table border=\"1\" class=\"dataframe\">\n  <thead>\n    <tr style=\"text-align: right;\">\n      <th></th>\n      <th>Nodes</th>\n      <th>Edges</th>\n      <th>Density</th>\n      <th>Strong Giant Component</th>\n      <th>Weak Giant Component</th>\n      <th>Avg Degree</th>\n      <th>Centrality Mean [Scaled]</th>\n      <th>Centrality Degree Mean</th>\n      <th>Centrality Betweenness Mean</th>\n      <th>Centrality Closeness Mean</th>\n      <th>Centrality Eigenvector Mean</th>\n      <th>Clustering Coefficient Mean</th>\n      <th>Pagerank Mean</th>\n    </tr>\n  </thead>\n  <tbody>\n    <tr>\n      <th>100%</th>\n      <td>475.0</td>\n      <td>1179.0</td>\n      <td>0.005237</td>\n      <td>0.922105</td>\n      <td>0.978947</td>\n      <td>4.964211</td>\n      <td>0.190509</td>\n      <td>0.150431</td>\n      <td>0.024181</td>\n      <td>0.000047</td>\n      <td>0.008300</td>\n      <td>0.023053</td>\n      <td>0.002105</td>\n    </tr>\n    <tr>\n      <th>096%</th>\n      <td>453.0</td>\n      <td>1042.0</td>\n      <td>0.005089</td>\n      <td>0.752759</td>\n      <td>0.834437</td>\n      <td>4.600442</td>\n      <td>0.179347</td>\n      <td>0.158636</td>\n      <td>0.016814</td>\n      <td>0.000035</td>\n      <td>0.011144</td>\n      <td>0.026011</td>\n      <td>0.002208</td>\n    </tr>\n    <tr>\n      <th>091%</th>\n      <td>431.0</td>\n      <td>963.0</td>\n      <td>0.005196</td>\n      <td>0.675174</td>\n      <td>0.742459</td>\n      <td>4.468677</td>\n      <td>0.165778</td>\n      <td>0.165507</td>\n      <td>0.012703</td>\n      <td>0.000031</td>\n      <td>0.011666</td>\n      <td>0.026390</td>\n      <td>0.002320</td>\n    </tr>\n    <tr>\n      <th>087%</th>\n      <td>409.0</td>\n      <td>894.0</td>\n      <td>0.005357</td>\n      <td>0.621027</td>\n      <td>0.704156</td>\n      <td>4.371638</td>\n      <td>0.164604</td>\n      <td>0.174866</td>\n      <td>0.010976</td>\n      <td>0.000029</td>\n      <td>0.012311</td>\n      <td>0.026568</td>\n      <td>0.002445</td>\n    </tr>\n    <tr>\n      <th>082%</th>\n      <td>387.0</td>\n      <td>823.0</td>\n      <td>0.005509</td>\n      <td>0.604651</td>\n      <td>0.684755</td>\n      <td>4.253230</td>\n      <td>0.162386</td>\n      <td>0.170129</td>\n      <td>0.010441</td>\n      <td>0.000028</td>\n      <td>0.012884</td>\n      <td>0.027054</td>\n      <td>0.002584</td>\n    </tr>\n    <tr>\n      <th>077%</th>\n      <td>365.0</td>\n      <td>763.0</td>\n      <td>0.005743</td>\n      <td>0.586301</td>\n      <td>0.660274</td>\n      <td>4.180822</td>\n      <td>0.159292</td>\n      <td>0.167233</td>\n      <td>0.009834</td>\n      <td>0.000027</td>\n      <td>0.013630</td>\n      <td>0.027253</td>\n      <td>0.002740</td>\n    </tr>\n    <tr>\n      <th>073%</th>\n      <td>343.0</td>\n      <td>673.0</td>\n      <td>0.005737</td>\n      <td>0.530612</td>\n      <td>0.603499</td>\n      <td>3.924198</td>\n      <td>0.142276</td>\n      <td>0.170617</td>\n      <td>0.008806</td>\n      <td>0.000021</td>\n      <td>0.014136</td>\n      <td>0.025786</td>\n      <td>0.002915</td>\n    </tr>\n    <tr>\n      <th>068%</th>\n      <td>321.0</td>\n      <td>597.0</td>\n      <td>0.005812</td>\n      <td>0.476636</td>\n      <td>0.532710</td>\n      <td>3.719626</td>\n      <td>0.141987</td>\n      <td>0.177125</td>\n      <td>0.006124</td>\n      <td>0.000018</td>\n      <td>0.014714</td>\n      <td>0.025523</td>\n      <td>0.003115</td>\n    </tr>\n    <tr>\n      <th>063%</th>\n      <td>299.0</td>\n      <td>513.0</td>\n      <td>0.005757</td>\n      <td>0.414716</td>\n      <td>0.468227</td>\n      <td>3.431438</td>\n      <td>0.133211</td>\n      <td>0.163402</td>\n      <td>0.005561</td>\n      <td>0.000015</td>\n      <td>0.014770</td>\n      <td>0.023370</td>\n      <td>0.003344</td>\n    </tr>\n    <tr>\n      <th>059%</th>\n      <td>277.0</td>\n      <td>440.0</td>\n      <td>0.005755</td>\n      <td>0.382671</td>\n      <td>0.436823</td>\n      <td>3.176895</td>\n      <td>0.134273</td>\n      <td>0.176494</td>\n      <td>0.005054</td>\n      <td>0.000013</td>\n      <td>0.015548</td>\n      <td>0.019767</td>\n      <td>0.003610</td>\n    </tr>\n    <tr>\n      <th>054%</th>\n      <td>255.0</td>\n      <td>365.0</td>\n      <td>0.005635</td>\n      <td>0.164706</td>\n      <td>0.188235</td>\n      <td>2.862745</td>\n      <td>0.106822</td>\n      <td>0.178922</td>\n      <td>0.001014</td>\n      <td>0.000009</td>\n      <td>0.010493</td>\n      <td>0.024499</td>\n      <td>0.003922</td>\n    </tr>\n    <tr>\n      <th>050%</th>\n      <td>233.0</td>\n      <td>301.0</td>\n      <td>0.005568</td>\n      <td>0.137339</td>\n      <td>0.154506</td>\n      <td>2.583691</td>\n      <td>0.097991</td>\n      <td>0.161481</td>\n      <td>0.000586</td>\n      <td>0.000008</td>\n      <td>0.011484</td>\n      <td>0.021883</td>\n      <td>0.004292</td>\n    </tr>\n    <tr>\n      <th>045%</th>\n      <td>211.0</td>\n      <td>223.0</td>\n      <td>0.005033</td>\n      <td>0.056872</td>\n      <td>0.071090</td>\n      <td>2.113744</td>\n      <td>0.112639</td>\n      <td>0.234860</td>\n      <td>0.000107</td>\n      <td>0.000006</td>\n      <td>0.010639</td>\n      <td>0.020764</td>\n      <td>0.004739</td>\n    </tr>\n    <tr>\n      <th>040%</th>\n      <td>189.0</td>\n      <td>177.0</td>\n      <td>0.004981</td>\n      <td>0.058201</td>\n      <td>0.063492</td>\n      <td>1.873016</td>\n      <td>0.104724</td>\n      <td>0.208113</td>\n      <td>0.000098</td>\n      <td>0.000006</td>\n      <td>0.011878</td>\n      <td>0.021193</td>\n      <td>0.005291</td>\n    </tr>\n    <tr>\n      <th>036%</th>\n      <td>167.0</td>\n      <td>136.0</td>\n      <td>0.004906</td>\n      <td>0.065868</td>\n      <td>0.065868</td>\n      <td>1.628743</td>\n      <td>0.093086</td>\n      <td>0.180971</td>\n      <td>0.000104</td>\n      <td>0.000006</td>\n      <td>0.013442</td>\n      <td>0.014802</td>\n      <td>0.005988</td>\n    </tr>\n    <tr>\n      <th>031%</th>\n      <td>145.0</td>\n      <td>115.0</td>\n      <td>0.005508</td>\n      <td>0.075862</td>\n      <td>0.075862</td>\n      <td>1.586207</td>\n      <td>0.095431</td>\n      <td>0.176245</td>\n      <td>0.000142</td>\n      <td>0.000007</td>\n      <td>0.015482</td>\n      <td>0.007310</td>\n      <td>0.006897</td>\n    </tr>\n    <tr>\n      <th>026%</th>\n      <td>123.0</td>\n      <td>76.0</td>\n      <td>0.005065</td>\n      <td>0.048780</td>\n      <td>0.048780</td>\n      <td>1.235772</td>\n      <td>0.080174</td>\n      <td>0.176539</td>\n      <td>0.000050</td>\n      <td>0.000006</td>\n      <td>0.011669</td>\n      <td>0.004465</td>\n      <td>0.008130</td>\n    </tr>\n    <tr>\n      <th>022%</th>\n      <td>101.0</td>\n      <td>51.0</td>\n      <td>0.005050</td>\n      <td>0.049505</td>\n      <td>0.049505</td>\n      <td>1.009901</td>\n      <td>0.000000</td>\n      <td>0.168317</td>\n      <td>0.000030</td>\n      <td>0.000006</td>\n      <td>0.014210</td>\n      <td>0.000000</td>\n      <td>0.009901</td>\n    </tr>\n    <tr>\n      <th>017%</th>\n      <td>79.0</td>\n      <td>38.0</td>\n      <td>0.006167</td>\n      <td>0.050633</td>\n      <td>0.050633</td>\n      <td>0.962025</td>\n      <td>0.000000</td>\n      <td>0.240506</td>\n      <td>0.000036</td>\n      <td>0.000006</td>\n      <td>0.018168</td>\n      <td>0.000000</td>\n      <td>0.012658</td>\n    </tr>\n    <tr>\n      <th>012%</th>\n      <td>57.0</td>\n      <td>19.0</td>\n      <td>0.005952</td>\n      <td>0.070175</td>\n      <td>0.070175</td>\n      <td>0.666667</td>\n      <td>0.000000</td>\n      <td>0.166667</td>\n      <td>0.000063</td>\n      <td>0.000007</td>\n      <td>0.030029</td>\n      <td>0.000000</td>\n      <td>0.017544</td>\n    </tr>\n  </tbody>\n</table>\n</div>"
     },
     "execution_count": 7,
     "metadata": {},
     "output_type": "execute_result"
    }
   ],
   "source": [
    "prettify_graph_stats_columns(attacks_results[\"random\"])"
   ],
   "metadata": {
    "collapsed": false,
    "ExecuteTime": {
     "end_time": "2024-02-14T21:07:17.496708400Z",
     "start_time": "2024-02-14T21:07:17.471711200Z"
    }
   }
  },
  {
   "cell_type": "code",
   "execution_count": null,
   "outputs": [],
   "source": [],
   "metadata": {
    "collapsed": false
   }
  }
 ],
 "metadata": {
  "kernelspec": {
   "display_name": "Python 3",
   "language": "python",
   "name": "python3"
  },
  "language_info": {
   "codemirror_mode": {
    "name": "ipython",
    "version": 2
   },
   "file_extension": ".py",
   "mimetype": "text/x-python",
   "name": "python",
   "nbconvert_exporter": "python",
   "pygments_lexer": "ipython2",
   "version": "2.7.6"
  }
 },
 "nbformat": 4,
 "nbformat_minor": 0
}
