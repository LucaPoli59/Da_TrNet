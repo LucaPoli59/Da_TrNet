{
 "cells": [
  {
   "cell_type": "code",
   "execution_count": 1,
   "metadata": {
    "collapsed": true,
    "ExecuteTime": {
     "end_time": "2024-02-10T17:06:28.949449300Z",
     "start_time": "2024-02-10T17:06:26.157443600Z"
    }
   },
   "outputs": [],
   "source": [
    "import pandas as pd\n",
    "import numpy as np\n",
    "\n",
    "import partridge as ptg\n",
    "import peartree as ptr\n",
    "\n",
    "from commons import *"
   ]
  },
  {
   "cell_type": "code",
   "execution_count": 2,
   "outputs": [
    {
     "data": {
      "text/plain": "<partridge.gtfs.Feed at 0x29991107580>"
     },
     "execution_count": 2,
     "metadata": {},
     "output_type": "execute_result"
    }
   ],
   "source": [
    "src = GTFS_PATH_OTHER\n",
    "feed_id = 1139\n",
    "start_time, end_time = 7*3600, 20*3600\n",
    "graph_name = \"DB\"\n",
    "\n",
    "\n",
    "feed_path = os.path.join(src, f'{feed_id}.zip')\n",
    "feed = ptr.get_representative_feed(feed_path)\n",
    "feed"
   ],
   "metadata": {
    "collapsed": false,
    "ExecuteTime": {
     "end_time": "2024-02-10T17:06:54.354484700Z",
     "start_time": "2024-02-10T17:06:28.953444200Z"
    }
   }
  },
  {
   "cell_type": "code",
   "execution_count": 3,
   "outputs": [],
   "source": [
    "g = ptr.load_feed_as_graph(feed, start_time, end_time, name=graph_name)"
   ],
   "metadata": {
    "collapsed": false,
    "ExecuteTime": {
     "end_time": "2024-02-10T17:07:16.943710200Z",
     "start_time": "2024-02-10T17:06:54.358481200Z"
    }
   }
  },
  {
   "cell_type": "code",
   "execution_count": 4,
   "outputs": [
    {
     "data": {
      "text/plain": "(            boarding_cost\n node_id                  \n DB_8000262           1800\n DB_8013456           1800\n DB_8004610           1800\n DB_8002757           1800\n DB_8000290           1800\n ...                   ...\n DB_8000732           1800\n DB_8000078           1800\n DB_8010195           1800\n DB_8100013           1800\n DB_8000194           1800\n \n [475 rows x 1 columns],\n                             length     mode\n source     target                          \n DB_8000262 DB_8000261   525.000000  transit\n            DB_8000320  1675.714286  transit\n            DB_8004158   660.000000  transit\n DB_8013456 DB_8000159  1620.000000  transit\n            DB_8010195  1560.000000  transit\n ...                            ...      ...\n DB_8100013 DB_8100008  2811.428571  transit\n            DB_8100002  3960.000000  transit\n            DB_8100014   780.000000  transit\n DB_8000194 DB_8000057   840.000000  transit\n            DB_8000197  1860.000000  transit\n \n [1179 rows x 2 columns])"
     },
     "execution_count": 4,
     "metadata": {},
     "output_type": "execute_result"
    }
   ],
   "source": [
    "graph_to_data(g)"
   ],
   "metadata": {
    "collapsed": false,
    "ExecuteTime": {
     "end_time": "2024-02-10T17:07:16.990234100Z",
     "start_time": "2024-02-10T17:07:07.290503600Z"
    }
   }
  },
  {
   "cell_type": "code",
   "execution_count": 6,
   "outputs": [
    {
     "data": {
      "text/plain": "            boarding_cost modes          y          x                   name\nDB_8012762           1800   [2]  54.251015  12.487015  Ribnitz-Damgarten Ost\nDB_8000260           1800   [2]  49.801795   9.935777           Würzburg Hbf\nDB_8000303           1800   [2]  49.723499   6.518204               Igel(Gr)\nDB_8010050           1800   [2]  51.622857  12.316849             Bitterfeld\nDB_8601878           1800   [2]  55.692705  12.587613          Oesterport st\n...                   ...   ...        ...        ...                    ...\nDB_8000181           1800   [2]  54.472275   9.055023                  Husum\nDB_8000050           1800   [2]  53.083478   8.813833             Bremen Hbf\nDB_8013025           1800   [2]  50.868212  11.722788              Stadtroda\nDB_8000320           1800   [2]  47.850021  12.119203              Rosenheim\nDB_8601309           1800   [2]  55.672722  12.564618           Koebenhavn H\n\n[475 rows x 5 columns]",
      "text/html": "<div>\n<style scoped>\n    .dataframe tbody tr th:only-of-type {\n        vertical-align: middle;\n    }\n\n    .dataframe tbody tr th {\n        vertical-align: top;\n    }\n\n    .dataframe thead th {\n        text-align: right;\n    }\n</style>\n<table border=\"1\" class=\"dataframe\">\n  <thead>\n    <tr style=\"text-align: right;\">\n      <th></th>\n      <th>boarding_cost</th>\n      <th>modes</th>\n      <th>y</th>\n      <th>x</th>\n      <th>name</th>\n    </tr>\n  </thead>\n  <tbody>\n    <tr>\n      <th>DB_8012762</th>\n      <td>1800</td>\n      <td>[2]</td>\n      <td>54.251015</td>\n      <td>12.487015</td>\n      <td>Ribnitz-Damgarten Ost</td>\n    </tr>\n    <tr>\n      <th>DB_8000260</th>\n      <td>1800</td>\n      <td>[2]</td>\n      <td>49.801795</td>\n      <td>9.935777</td>\n      <td>Würzburg Hbf</td>\n    </tr>\n    <tr>\n      <th>DB_8000303</th>\n      <td>1800</td>\n      <td>[2]</td>\n      <td>49.723499</td>\n      <td>6.518204</td>\n      <td>Igel(Gr)</td>\n    </tr>\n    <tr>\n      <th>DB_8010050</th>\n      <td>1800</td>\n      <td>[2]</td>\n      <td>51.622857</td>\n      <td>12.316849</td>\n      <td>Bitterfeld</td>\n    </tr>\n    <tr>\n      <th>DB_8601878</th>\n      <td>1800</td>\n      <td>[2]</td>\n      <td>55.692705</td>\n      <td>12.587613</td>\n      <td>Oesterport st</td>\n    </tr>\n    <tr>\n      <th>...</th>\n      <td>...</td>\n      <td>...</td>\n      <td>...</td>\n      <td>...</td>\n      <td>...</td>\n    </tr>\n    <tr>\n      <th>DB_8000181</th>\n      <td>1800</td>\n      <td>[2]</td>\n      <td>54.472275</td>\n      <td>9.055023</td>\n      <td>Husum</td>\n    </tr>\n    <tr>\n      <th>DB_8000050</th>\n      <td>1800</td>\n      <td>[2]</td>\n      <td>53.083478</td>\n      <td>8.813833</td>\n      <td>Bremen Hbf</td>\n    </tr>\n    <tr>\n      <th>DB_8013025</th>\n      <td>1800</td>\n      <td>[2]</td>\n      <td>50.868212</td>\n      <td>11.722788</td>\n      <td>Stadtroda</td>\n    </tr>\n    <tr>\n      <th>DB_8000320</th>\n      <td>1800</td>\n      <td>[2]</td>\n      <td>47.850021</td>\n      <td>12.119203</td>\n      <td>Rosenheim</td>\n    </tr>\n    <tr>\n      <th>DB_8601309</th>\n      <td>1800</td>\n      <td>[2]</td>\n      <td>55.672722</td>\n      <td>12.564618</td>\n      <td>Koebenhavn H</td>\n    </tr>\n  </tbody>\n</table>\n<p>475 rows × 5 columns</p>\n</div>"
     },
     "execution_count": 6,
     "metadata": {},
     "output_type": "execute_result"
    }
   ],
   "source": [
    "pd.DataFrame.from_dict(dict(g.nodes(data=True)), orient='index')"
   ],
   "metadata": {
    "collapsed": false,
    "ExecuteTime": {
     "end_time": "2024-02-10T16:55:22.704527500Z",
     "start_time": "2024-02-10T16:55:22.667768900Z"
    }
   }
  },
  {
   "cell_type": "code",
   "execution_count": null,
   "outputs": [],
   "source": [],
   "metadata": {
    "collapsed": false
   }
  }
 ],
 "metadata": {
  "kernelspec": {
   "display_name": "Python 3",
   "language": "python",
   "name": "python3"
  },
  "language_info": {
   "codemirror_mode": {
    "name": "ipython",
    "version": 2
   },
   "file_extension": ".py",
   "mimetype": "text/x-python",
   "name": "python",
   "nbconvert_exporter": "python",
   "pygments_lexer": "ipython2",
   "version": "2.7.6"
  }
 },
 "nbformat": 4,
 "nbformat_minor": 0
}
