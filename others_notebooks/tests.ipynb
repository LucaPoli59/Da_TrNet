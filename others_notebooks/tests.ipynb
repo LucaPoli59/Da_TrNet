{
 "cells": [
  {
   "cell_type": "code",
   "execution_count": 2,
   "metadata": {
    "collapsed": true,
    "ExecuteTime": {
     "end_time": "2024-02-14T13:20:28.501576600Z",
     "start_time": "2024-02-14T13:20:28.328547500Z"
    }
   },
   "outputs": [],
   "source": [
    "import pandas as pd\n",
    "import numpy as np\n",
    "\n",
    "import partridge as ptg\n",
    "import peartree as ptr\n",
    "import os\n",
    "import json\n",
    "\n",
    "from commons import *"
   ]
  },
  {
   "cell_type": "code",
   "execution_count": 64,
   "outputs": [],
   "source": [
    "graph = load_graph_from_file(os.path.join(RESULTS_PATH, \"full_graph\"))"
   ],
   "metadata": {
    "collapsed": false,
    "ExecuteTime": {
     "end_time": "2024-02-12T20:04:08.025270700Z",
     "start_time": "2024-02-12T20:04:07.790271100Z"
    }
   }
  },
  {
   "cell_type": "code",
   "execution_count": 65,
   "outputs": [],
   "source": [
    "node_df, edge_df, map_plot = plot_graph_map(graph)"
   ],
   "metadata": {
    "collapsed": false,
    "ExecuteTime": {
     "end_time": "2024-02-12T20:04:17.942733800Z",
     "start_time": "2024-02-12T20:04:09.024594700Z"
    }
   }
  },
  {
   "cell_type": "code",
   "execution_count": 66,
   "outputs": [],
   "source": [
    "t_node_df = prettify_node_df(node_df)"
   ],
   "metadata": {
    "collapsed": false,
    "ExecuteTime": {
     "end_time": "2024-02-12T20:04:18.070735200Z",
     "start_time": "2024-02-12T20:04:18.059734400Z"
    }
   }
  },
  {
   "cell_type": "code",
   "execution_count": 67,
   "outputs": [
    {
     "data": {
      "text/plain": "            boarding_cost       name  degree  centrality_degree  \\\nnode_id                                                           \nDB_8700011           1800  Paris Est       6            0.18182   \n\n            centrality_betweenness  centrality_closeness  \\\nnode_id                                                    \nDB_8700011                     0.0               0.00004   \n\n            centrality_eigenvector  centrality_clustering  \\\nnode_id                                                     \nDB_8700011                     0.0                0.07103   \n\n            centrality_pagerank  centrality_degree_scaled  \\\nnode_id                                                     \nDB_8700011              0.00436                   0.18182   \n\n            centrality_betweenness_scaled  centrality_closeness_scaled  \\\nnode_id                                                                  \nDB_8700011                            0.0                      0.56929   \n\n            centrality_eigenvector_scaled  centrality_clustering_scaled  \\\nnode_id                                                                   \nDB_8700011                            0.0                       0.27824   \n\n            centrality_pagerank_scaled  centrality  \nnode_id                                             \nDB_8700011                     0.22361     0.21918  ",
      "text/html": "<div>\n<style scoped>\n    .dataframe tbody tr th:only-of-type {\n        vertical-align: middle;\n    }\n\n    .dataframe tbody tr th {\n        vertical-align: top;\n    }\n\n    .dataframe thead th {\n        text-align: right;\n    }\n</style>\n<table border=\"1\" class=\"dataframe\">\n  <thead>\n    <tr style=\"text-align: right;\">\n      <th></th>\n      <th>boarding_cost</th>\n      <th>name</th>\n      <th>degree</th>\n      <th>centrality_degree</th>\n      <th>centrality_betweenness</th>\n      <th>centrality_closeness</th>\n      <th>centrality_eigenvector</th>\n      <th>centrality_clustering</th>\n      <th>centrality_pagerank</th>\n      <th>centrality_degree_scaled</th>\n      <th>centrality_betweenness_scaled</th>\n      <th>centrality_closeness_scaled</th>\n      <th>centrality_eigenvector_scaled</th>\n      <th>centrality_clustering_scaled</th>\n      <th>centrality_pagerank_scaled</th>\n      <th>centrality</th>\n    </tr>\n    <tr>\n      <th>node_id</th>\n      <th></th>\n      <th></th>\n      <th></th>\n      <th></th>\n      <th></th>\n      <th></th>\n      <th></th>\n      <th></th>\n      <th></th>\n      <th></th>\n      <th></th>\n      <th></th>\n      <th></th>\n      <th></th>\n      <th></th>\n      <th></th>\n    </tr>\n  </thead>\n  <tbody>\n    <tr>\n      <th>DB_8700011</th>\n      <td>1800</td>\n      <td>Paris Est</td>\n      <td>6</td>\n      <td>0.18182</td>\n      <td>0.0</td>\n      <td>0.00004</td>\n      <td>0.0</td>\n      <td>0.07103</td>\n      <td>0.00436</td>\n      <td>0.18182</td>\n      <td>0.0</td>\n      <td>0.56929</td>\n      <td>0.0</td>\n      <td>0.27824</td>\n      <td>0.22361</td>\n      <td>0.21918</td>\n    </tr>\n  </tbody>\n</table>\n</div>"
     },
     "execution_count": 67,
     "metadata": {},
     "output_type": "execute_result"
    }
   ],
   "source": [
    "node_df[node_df['name'] == 'Paris Est']"
   ],
   "metadata": {
    "collapsed": false,
    "ExecuteTime": {
     "end_time": "2024-02-12T20:05:19.473395500Z",
     "start_time": "2024-02-12T20:05:19.411397200Z"
    }
   }
  },
  {
   "cell_type": "code",
   "execution_count": 69,
   "outputs": [
    {
     "data": {
      "text/plain": "            Boarding Cost       Name  Degree    Cent.  Cent. Degree  \\\nnode_id                                                               \nDB_8700011           1800  Paris Est       6  0.18182           0.0   \n\n            Cent. Betweenness  Cent. Closeness  Cent. Eigenvector  \\\nnode_id                                                             \nDB_8700011            0.00004              0.0            0.07103   \n\n            Cent. Clustering  Cent. Pagerank  Cent. Degree R  \\\nnode_id                                                        \nDB_8700011           0.00436         0.18182             0.0   \n\n            Cent. Betweenness R  Cent. Closeness R  Cent. Eigenvector R  \\\nnode_id                                                                   \nDB_8700011              0.56929                0.0              0.27824   \n\n            Cent. Clustering R  Cent. Pagerank R  \nnode_id                                           \nDB_8700011             0.22361           0.21918  ",
      "text/html": "<div>\n<style scoped>\n    .dataframe tbody tr th:only-of-type {\n        vertical-align: middle;\n    }\n\n    .dataframe tbody tr th {\n        vertical-align: top;\n    }\n\n    .dataframe thead th {\n        text-align: right;\n    }\n</style>\n<table border=\"1\" class=\"dataframe\">\n  <thead>\n    <tr style=\"text-align: right;\">\n      <th></th>\n      <th>Boarding Cost</th>\n      <th>Name</th>\n      <th>Degree</th>\n      <th>Cent.</th>\n      <th>Cent. Degree</th>\n      <th>Cent. Betweenness</th>\n      <th>Cent. Closeness</th>\n      <th>Cent. Eigenvector</th>\n      <th>Cent. Clustering</th>\n      <th>Cent. Pagerank</th>\n      <th>Cent. Degree R</th>\n      <th>Cent. Betweenness R</th>\n      <th>Cent. Closeness R</th>\n      <th>Cent. Eigenvector R</th>\n      <th>Cent. Clustering R</th>\n      <th>Cent. Pagerank R</th>\n    </tr>\n    <tr>\n      <th>node_id</th>\n      <th></th>\n      <th></th>\n      <th></th>\n      <th></th>\n      <th></th>\n      <th></th>\n      <th></th>\n      <th></th>\n      <th></th>\n      <th></th>\n      <th></th>\n      <th></th>\n      <th></th>\n      <th></th>\n      <th></th>\n      <th></th>\n    </tr>\n  </thead>\n  <tbody>\n    <tr>\n      <th>DB_8700011</th>\n      <td>1800</td>\n      <td>Paris Est</td>\n      <td>6</td>\n      <td>0.18182</td>\n      <td>0.0</td>\n      <td>0.00004</td>\n      <td>0.0</td>\n      <td>0.07103</td>\n      <td>0.00436</td>\n      <td>0.18182</td>\n      <td>0.0</td>\n      <td>0.56929</td>\n      <td>0.0</td>\n      <td>0.27824</td>\n      <td>0.22361</td>\n      <td>0.21918</td>\n    </tr>\n  </tbody>\n</table>\n</div>"
     },
     "execution_count": 69,
     "metadata": {},
     "output_type": "execute_result"
    }
   ],
   "source": [
    "t_node_df[t_node_df['Name'] == 'Paris Est']"
   ],
   "metadata": {
    "collapsed": false,
    "ExecuteTime": {
     "end_time": "2024-02-12T20:11:24.718370400Z",
     "start_time": "2024-02-12T20:11:24.457299500Z"
    }
   }
  },
  {
   "cell_type": "code",
   "execution_count": 75,
   "outputs": [
    {
     "data": {
      "text/plain": "            boarding_cost                 name  degree  centrality_degree  \\\nnode_id                                                                     \nDB_8000025           1800              Bamberg       9            0.27273   \nDB_8505004           1800          Arth-Goldau       2            0.06061   \nDB_8000253           1800  Mönchengladbach Hbf       4            0.12121   \nDB_8089124           1800  Frankfurt(Oder)(Gr)       4            0.12121   \nDB_8000192           1800     Wanne-Eickel Hbf       4            0.12121   \n...                   ...                  ...     ...                ...   \nDB_8100353           1800       Flughafen Wien       1            0.03030   \nDB_8010355           1800              Velgast       5            0.15152   \nDB_8010033           1800     Bergen auf Rügen       4            0.12121   \nDB_8001338           1800               Coburg       5            0.15152   \nDB_8000105           1800   Frankfurt(Main)Hbf      21            0.63636   \n\n            centrality_betweenness  centrality_closeness  \\\nnode_id                                                    \nDB_8000025                 0.00984               0.00006   \nDB_8505004                 0.02401               0.00004   \nDB_8000253                 0.01115               0.00006   \nDB_8089124                 0.05821               0.00005   \nDB_8000192                 0.03055               0.00006   \n...                            ...                   ...   \nDB_8100353                 0.00000               0.00000   \nDB_8010355                 0.00960               0.00004   \nDB_8010033                 0.00401               0.00004   \nDB_8001338                 0.00000               0.00006   \nDB_8000105                 0.15912               0.00007   \n\n            centrality_eigenvector  centrality_clustering  \\\nnode_id                                                     \nDB_8000025                 0.00273                0.10573   \nDB_8505004                 0.00000                0.00000   \nDB_8000253                 0.00000                0.00000   \nDB_8089124                 0.00000                0.00000   \nDB_8000192                 0.00012                0.01879   \n...                            ...                    ...   \nDB_8100353                -0.00000                0.00000   \nDB_8010355                 0.00000                0.01739   \nDB_8010033                 0.00000                0.00000   \nDB_8001338                 0.00229                0.25085   \nDB_8000105                 0.01039                0.01591   \n\n            centrality_pagerank  centrality_degree_scaled  \\\nnode_id                                                     \nDB_8000025              0.00258                   0.27273   \nDB_8505004              0.00148                   0.06061   \nDB_8000253              0.00122                   0.12121   \nDB_8089124              0.00129                   0.12121   \nDB_8000192              0.00050                   0.12121   \n...                         ...                       ...   \nDB_8100353              0.00032                   0.03030   \nDB_8010355              0.00114                   0.15152   \nDB_8010033              0.00253                   0.12121   \nDB_8001338              0.00170                   0.15152   \nDB_8000105              0.00692                   0.63636   \n\n            centrality_betweenness_scaled  centrality_closeness_scaled  \\\nnode_id                                                                  \nDB_8000025                        0.04059                      0.87475   \nDB_8505004                        0.09904                      0.53737   \nDB_8000253                        0.04598                      0.77024   \nDB_8089124                        0.24010                      0.66277   \nDB_8000192                        0.12603                      0.83547   \n...                                   ...                          ...   \nDB_8100353                        0.00000                      0.00000   \nDB_8010355                        0.03961                      0.55921   \nDB_8010033                        0.01654                      0.52238   \nDB_8001338                        0.00000                      0.86141   \nDB_8000105                        0.65634                      0.96417   \n\n            centrality_eigenvector_scaled  centrality_clustering_scaled  \\\nnode_id                                                                   \nDB_8000025                        0.00476                       0.41414   \nDB_8505004                        0.00000                       0.00000   \nDB_8000253                        0.00000                       0.00000   \nDB_8089124                        0.00000                       0.00000   \nDB_8000192                        0.00022                       0.07361   \n...                                   ...                           ...   \nDB_8100353                       -0.00000                       0.00000   \nDB_8010355                        0.00000                       0.06811   \nDB_8010033                        0.00000                       0.00000   \nDB_8001338                        0.00399                       0.98263   \nDB_8000105                        0.01814                       0.06233   \n\n            centrality_pagerank_scaled  centrality  \nnode_id                                             \nDB_8000025                     0.13239     0.31081  \nDB_8505004                     0.07611     0.13083  \nDB_8000253                     0.06270     0.16982  \nDB_8089124                     0.06628     0.18199  \nDB_8000192                     0.02576     0.20606  \n...                                ...         ...  \nDB_8100353                     0.01666     0.00597  \nDB_8010355                     0.05867     0.14926  \nDB_8010033                     0.12947     0.12964  \nDB_8001338                     0.08723     0.41020  \nDB_8000105                     0.35485     0.42261  \n\n[475 rows x 16 columns]",
      "text/html": "<div>\n<style scoped>\n    .dataframe tbody tr th:only-of-type {\n        vertical-align: middle;\n    }\n\n    .dataframe tbody tr th {\n        vertical-align: top;\n    }\n\n    .dataframe thead th {\n        text-align: right;\n    }\n</style>\n<table border=\"1\" class=\"dataframe\">\n  <thead>\n    <tr style=\"text-align: right;\">\n      <th></th>\n      <th>boarding_cost</th>\n      <th>name</th>\n      <th>degree</th>\n      <th>centrality_degree</th>\n      <th>centrality_betweenness</th>\n      <th>centrality_closeness</th>\n      <th>centrality_eigenvector</th>\n      <th>centrality_clustering</th>\n      <th>centrality_pagerank</th>\n      <th>centrality_degree_scaled</th>\n      <th>centrality_betweenness_scaled</th>\n      <th>centrality_closeness_scaled</th>\n      <th>centrality_eigenvector_scaled</th>\n      <th>centrality_clustering_scaled</th>\n      <th>centrality_pagerank_scaled</th>\n      <th>centrality</th>\n    </tr>\n    <tr>\n      <th>node_id</th>\n      <th></th>\n      <th></th>\n      <th></th>\n      <th></th>\n      <th></th>\n      <th></th>\n      <th></th>\n      <th></th>\n      <th></th>\n      <th></th>\n      <th></th>\n      <th></th>\n      <th></th>\n      <th></th>\n      <th></th>\n      <th></th>\n    </tr>\n  </thead>\n  <tbody>\n    <tr>\n      <th>DB_8000025</th>\n      <td>1800</td>\n      <td>Bamberg</td>\n      <td>9</td>\n      <td>0.27273</td>\n      <td>0.00984</td>\n      <td>0.00006</td>\n      <td>0.00273</td>\n      <td>0.10573</td>\n      <td>0.00258</td>\n      <td>0.27273</td>\n      <td>0.04059</td>\n      <td>0.87475</td>\n      <td>0.00476</td>\n      <td>0.41414</td>\n      <td>0.13239</td>\n      <td>0.31081</td>\n    </tr>\n    <tr>\n      <th>DB_8505004</th>\n      <td>1800</td>\n      <td>Arth-Goldau</td>\n      <td>2</td>\n      <td>0.06061</td>\n      <td>0.02401</td>\n      <td>0.00004</td>\n      <td>0.00000</td>\n      <td>0.00000</td>\n      <td>0.00148</td>\n      <td>0.06061</td>\n      <td>0.09904</td>\n      <td>0.53737</td>\n      <td>0.00000</td>\n      <td>0.00000</td>\n      <td>0.07611</td>\n      <td>0.13083</td>\n    </tr>\n    <tr>\n      <th>DB_8000253</th>\n      <td>1800</td>\n      <td>Mönchengladbach Hbf</td>\n      <td>4</td>\n      <td>0.12121</td>\n      <td>0.01115</td>\n      <td>0.00006</td>\n      <td>0.00000</td>\n      <td>0.00000</td>\n      <td>0.00122</td>\n      <td>0.12121</td>\n      <td>0.04598</td>\n      <td>0.77024</td>\n      <td>0.00000</td>\n      <td>0.00000</td>\n      <td>0.06270</td>\n      <td>0.16982</td>\n    </tr>\n    <tr>\n      <th>DB_8089124</th>\n      <td>1800</td>\n      <td>Frankfurt(Oder)(Gr)</td>\n      <td>4</td>\n      <td>0.12121</td>\n      <td>0.05821</td>\n      <td>0.00005</td>\n      <td>0.00000</td>\n      <td>0.00000</td>\n      <td>0.00129</td>\n      <td>0.12121</td>\n      <td>0.24010</td>\n      <td>0.66277</td>\n      <td>0.00000</td>\n      <td>0.00000</td>\n      <td>0.06628</td>\n      <td>0.18199</td>\n    </tr>\n    <tr>\n      <th>DB_8000192</th>\n      <td>1800</td>\n      <td>Wanne-Eickel Hbf</td>\n      <td>4</td>\n      <td>0.12121</td>\n      <td>0.03055</td>\n      <td>0.00006</td>\n      <td>0.00012</td>\n      <td>0.01879</td>\n      <td>0.00050</td>\n      <td>0.12121</td>\n      <td>0.12603</td>\n      <td>0.83547</td>\n      <td>0.00022</td>\n      <td>0.07361</td>\n      <td>0.02576</td>\n      <td>0.20606</td>\n    </tr>\n    <tr>\n      <th>...</th>\n      <td>...</td>\n      <td>...</td>\n      <td>...</td>\n      <td>...</td>\n      <td>...</td>\n      <td>...</td>\n      <td>...</td>\n      <td>...</td>\n      <td>...</td>\n      <td>...</td>\n      <td>...</td>\n      <td>...</td>\n      <td>...</td>\n      <td>...</td>\n      <td>...</td>\n      <td>...</td>\n    </tr>\n    <tr>\n      <th>DB_8100353</th>\n      <td>1800</td>\n      <td>Flughafen Wien</td>\n      <td>1</td>\n      <td>0.03030</td>\n      <td>0.00000</td>\n      <td>0.00000</td>\n      <td>-0.00000</td>\n      <td>0.00000</td>\n      <td>0.00032</td>\n      <td>0.03030</td>\n      <td>0.00000</td>\n      <td>0.00000</td>\n      <td>-0.00000</td>\n      <td>0.00000</td>\n      <td>0.01666</td>\n      <td>0.00597</td>\n    </tr>\n    <tr>\n      <th>DB_8010355</th>\n      <td>1800</td>\n      <td>Velgast</td>\n      <td>5</td>\n      <td>0.15152</td>\n      <td>0.00960</td>\n      <td>0.00004</td>\n      <td>0.00000</td>\n      <td>0.01739</td>\n      <td>0.00114</td>\n      <td>0.15152</td>\n      <td>0.03961</td>\n      <td>0.55921</td>\n      <td>0.00000</td>\n      <td>0.06811</td>\n      <td>0.05867</td>\n      <td>0.14926</td>\n    </tr>\n    <tr>\n      <th>DB_8010033</th>\n      <td>1800</td>\n      <td>Bergen auf Rügen</td>\n      <td>4</td>\n      <td>0.12121</td>\n      <td>0.00401</td>\n      <td>0.00004</td>\n      <td>0.00000</td>\n      <td>0.00000</td>\n      <td>0.00253</td>\n      <td>0.12121</td>\n      <td>0.01654</td>\n      <td>0.52238</td>\n      <td>0.00000</td>\n      <td>0.00000</td>\n      <td>0.12947</td>\n      <td>0.12964</td>\n    </tr>\n    <tr>\n      <th>DB_8001338</th>\n      <td>1800</td>\n      <td>Coburg</td>\n      <td>5</td>\n      <td>0.15152</td>\n      <td>0.00000</td>\n      <td>0.00006</td>\n      <td>0.00229</td>\n      <td>0.25085</td>\n      <td>0.00170</td>\n      <td>0.15152</td>\n      <td>0.00000</td>\n      <td>0.86141</td>\n      <td>0.00399</td>\n      <td>0.98263</td>\n      <td>0.08723</td>\n      <td>0.41020</td>\n    </tr>\n    <tr>\n      <th>DB_8000105</th>\n      <td>1800</td>\n      <td>Frankfurt(Main)Hbf</td>\n      <td>21</td>\n      <td>0.63636</td>\n      <td>0.15912</td>\n      <td>0.00007</td>\n      <td>0.01039</td>\n      <td>0.01591</td>\n      <td>0.00692</td>\n      <td>0.63636</td>\n      <td>0.65634</td>\n      <td>0.96417</td>\n      <td>0.01814</td>\n      <td>0.06233</td>\n      <td>0.35485</td>\n      <td>0.42261</td>\n    </tr>\n  </tbody>\n</table>\n<p>475 rows × 16 columns</p>\n</div>"
     },
     "execution_count": 75,
     "metadata": {},
     "output_type": "execute_result"
    }
   ],
   "source": [
    "node_df"
   ],
   "metadata": {
    "collapsed": false,
    "ExecuteTime": {
     "end_time": "2024-02-12T20:15:56.895544700Z",
     "start_time": "2024-02-12T20:15:56.843889Z"
    }
   }
  },
  {
   "cell_type": "code",
   "execution_count": 74,
   "outputs": [
    {
     "data": {
      "text/plain": "            Boarding Cost                 Name  Degree    Cent.  Cent. Degree  \\\nnode_id                                                                         \nDB_8000025           1800              Bamberg       9  0.27273       0.00984   \nDB_8505004           1800          Arth-Goldau       2  0.06061       0.02401   \nDB_8000253           1800  Mönchengladbach Hbf       4  0.12121       0.01115   \nDB_8089124           1800  Frankfurt(Oder)(Gr)       4  0.12121       0.05821   \nDB_8000192           1800     Wanne-Eickel Hbf       4  0.12121       0.03055   \n...                   ...                  ...     ...      ...           ...   \nDB_8100353           1800       Flughafen Wien       1  0.03030       0.00000   \nDB_8010355           1800              Velgast       5  0.15152       0.00960   \nDB_8010033           1800     Bergen auf Rügen       4  0.12121       0.00401   \nDB_8001338           1800               Coburg       5  0.15152       0.00000   \nDB_8000105           1800   Frankfurt(Main)Hbf      21  0.63636       0.15912   \n\n            Cent. Betweenness  Cent. Closeness  Cent. Eigenvector  \\\nnode_id                                                             \nDB_8000025            0.00006          0.00273            0.10573   \nDB_8505004            0.00004          0.00000            0.00000   \nDB_8000253            0.00006          0.00000            0.00000   \nDB_8089124            0.00005          0.00000            0.00000   \nDB_8000192            0.00006          0.00012            0.01879   \n...                       ...              ...                ...   \nDB_8100353            0.00000         -0.00000            0.00000   \nDB_8010355            0.00004          0.00000            0.01739   \nDB_8010033            0.00004          0.00000            0.00000   \nDB_8001338            0.00006          0.00229            0.25085   \nDB_8000105            0.00007          0.01039            0.01591   \n\n            Cent. Clustering  Cent. Pagerank  Cent. Degree R  \\\nnode_id                                                        \nDB_8000025           0.00258         0.27273         0.04059   \nDB_8505004           0.00148         0.06061         0.09904   \nDB_8000253           0.00122         0.12121         0.04598   \nDB_8089124           0.00129         0.12121         0.24010   \nDB_8000192           0.00050         0.12121         0.12603   \n...                      ...             ...             ...   \nDB_8100353           0.00032         0.03030         0.00000   \nDB_8010355           0.00114         0.15152         0.03961   \nDB_8010033           0.00253         0.12121         0.01654   \nDB_8001338           0.00170         0.15152         0.00000   \nDB_8000105           0.00692         0.63636         0.65634   \n\n            Cent. Betweenness R  Cent. Closeness R  Cent. Eigenvector R  \\\nnode_id                                                                   \nDB_8000025              0.87475            0.00476              0.41414   \nDB_8505004              0.53737            0.00000              0.00000   \nDB_8000253              0.77024            0.00000              0.00000   \nDB_8089124              0.66277            0.00000              0.00000   \nDB_8000192              0.83547            0.00022              0.07361   \n...                         ...                ...                  ...   \nDB_8100353              0.00000           -0.00000              0.00000   \nDB_8010355              0.55921            0.00000              0.06811   \nDB_8010033              0.52238            0.00000              0.00000   \nDB_8001338              0.86141            0.00399              0.98263   \nDB_8000105              0.96417            0.01814              0.06233   \n\n            Cent. Clustering R  Cent. Pagerank R  \nnode_id                                           \nDB_8000025             0.13239           0.31081  \nDB_8505004             0.07611           0.13083  \nDB_8000253             0.06270           0.16982  \nDB_8089124             0.06628           0.18199  \nDB_8000192             0.02576           0.20606  \n...                        ...               ...  \nDB_8100353             0.01666           0.00597  \nDB_8010355             0.05867           0.14926  \nDB_8010033             0.12947           0.12964  \nDB_8001338             0.08723           0.41020  \nDB_8000105             0.35485           0.42261  \n\n[475 rows x 16 columns]",
      "text/html": "<div>\n<style scoped>\n    .dataframe tbody tr th:only-of-type {\n        vertical-align: middle;\n    }\n\n    .dataframe tbody tr th {\n        vertical-align: top;\n    }\n\n    .dataframe thead th {\n        text-align: right;\n    }\n</style>\n<table border=\"1\" class=\"dataframe\">\n  <thead>\n    <tr style=\"text-align: right;\">\n      <th></th>\n      <th>Boarding Cost</th>\n      <th>Name</th>\n      <th>Degree</th>\n      <th>Cent.</th>\n      <th>Cent. Degree</th>\n      <th>Cent. Betweenness</th>\n      <th>Cent. Closeness</th>\n      <th>Cent. Eigenvector</th>\n      <th>Cent. Clustering</th>\n      <th>Cent. Pagerank</th>\n      <th>Cent. Degree R</th>\n      <th>Cent. Betweenness R</th>\n      <th>Cent. Closeness R</th>\n      <th>Cent. Eigenvector R</th>\n      <th>Cent. Clustering R</th>\n      <th>Cent. Pagerank R</th>\n    </tr>\n    <tr>\n      <th>node_id</th>\n      <th></th>\n      <th></th>\n      <th></th>\n      <th></th>\n      <th></th>\n      <th></th>\n      <th></th>\n      <th></th>\n      <th></th>\n      <th></th>\n      <th></th>\n      <th></th>\n      <th></th>\n      <th></th>\n      <th></th>\n      <th></th>\n    </tr>\n  </thead>\n  <tbody>\n    <tr>\n      <th>DB_8000025</th>\n      <td>1800</td>\n      <td>Bamberg</td>\n      <td>9</td>\n      <td>0.27273</td>\n      <td>0.00984</td>\n      <td>0.00006</td>\n      <td>0.00273</td>\n      <td>0.10573</td>\n      <td>0.00258</td>\n      <td>0.27273</td>\n      <td>0.04059</td>\n      <td>0.87475</td>\n      <td>0.00476</td>\n      <td>0.41414</td>\n      <td>0.13239</td>\n      <td>0.31081</td>\n    </tr>\n    <tr>\n      <th>DB_8505004</th>\n      <td>1800</td>\n      <td>Arth-Goldau</td>\n      <td>2</td>\n      <td>0.06061</td>\n      <td>0.02401</td>\n      <td>0.00004</td>\n      <td>0.00000</td>\n      <td>0.00000</td>\n      <td>0.00148</td>\n      <td>0.06061</td>\n      <td>0.09904</td>\n      <td>0.53737</td>\n      <td>0.00000</td>\n      <td>0.00000</td>\n      <td>0.07611</td>\n      <td>0.13083</td>\n    </tr>\n    <tr>\n      <th>DB_8000253</th>\n      <td>1800</td>\n      <td>Mönchengladbach Hbf</td>\n      <td>4</td>\n      <td>0.12121</td>\n      <td>0.01115</td>\n      <td>0.00006</td>\n      <td>0.00000</td>\n      <td>0.00000</td>\n      <td>0.00122</td>\n      <td>0.12121</td>\n      <td>0.04598</td>\n      <td>0.77024</td>\n      <td>0.00000</td>\n      <td>0.00000</td>\n      <td>0.06270</td>\n      <td>0.16982</td>\n    </tr>\n    <tr>\n      <th>DB_8089124</th>\n      <td>1800</td>\n      <td>Frankfurt(Oder)(Gr)</td>\n      <td>4</td>\n      <td>0.12121</td>\n      <td>0.05821</td>\n      <td>0.00005</td>\n      <td>0.00000</td>\n      <td>0.00000</td>\n      <td>0.00129</td>\n      <td>0.12121</td>\n      <td>0.24010</td>\n      <td>0.66277</td>\n      <td>0.00000</td>\n      <td>0.00000</td>\n      <td>0.06628</td>\n      <td>0.18199</td>\n    </tr>\n    <tr>\n      <th>DB_8000192</th>\n      <td>1800</td>\n      <td>Wanne-Eickel Hbf</td>\n      <td>4</td>\n      <td>0.12121</td>\n      <td>0.03055</td>\n      <td>0.00006</td>\n      <td>0.00012</td>\n      <td>0.01879</td>\n      <td>0.00050</td>\n      <td>0.12121</td>\n      <td>0.12603</td>\n      <td>0.83547</td>\n      <td>0.00022</td>\n      <td>0.07361</td>\n      <td>0.02576</td>\n      <td>0.20606</td>\n    </tr>\n    <tr>\n      <th>...</th>\n      <td>...</td>\n      <td>...</td>\n      <td>...</td>\n      <td>...</td>\n      <td>...</td>\n      <td>...</td>\n      <td>...</td>\n      <td>...</td>\n      <td>...</td>\n      <td>...</td>\n      <td>...</td>\n      <td>...</td>\n      <td>...</td>\n      <td>...</td>\n      <td>...</td>\n      <td>...</td>\n    </tr>\n    <tr>\n      <th>DB_8100353</th>\n      <td>1800</td>\n      <td>Flughafen Wien</td>\n      <td>1</td>\n      <td>0.03030</td>\n      <td>0.00000</td>\n      <td>0.00000</td>\n      <td>-0.00000</td>\n      <td>0.00000</td>\n      <td>0.00032</td>\n      <td>0.03030</td>\n      <td>0.00000</td>\n      <td>0.00000</td>\n      <td>-0.00000</td>\n      <td>0.00000</td>\n      <td>0.01666</td>\n      <td>0.00597</td>\n    </tr>\n    <tr>\n      <th>DB_8010355</th>\n      <td>1800</td>\n      <td>Velgast</td>\n      <td>5</td>\n      <td>0.15152</td>\n      <td>0.00960</td>\n      <td>0.00004</td>\n      <td>0.00000</td>\n      <td>0.01739</td>\n      <td>0.00114</td>\n      <td>0.15152</td>\n      <td>0.03961</td>\n      <td>0.55921</td>\n      <td>0.00000</td>\n      <td>0.06811</td>\n      <td>0.05867</td>\n      <td>0.14926</td>\n    </tr>\n    <tr>\n      <th>DB_8010033</th>\n      <td>1800</td>\n      <td>Bergen auf Rügen</td>\n      <td>4</td>\n      <td>0.12121</td>\n      <td>0.00401</td>\n      <td>0.00004</td>\n      <td>0.00000</td>\n      <td>0.00000</td>\n      <td>0.00253</td>\n      <td>0.12121</td>\n      <td>0.01654</td>\n      <td>0.52238</td>\n      <td>0.00000</td>\n      <td>0.00000</td>\n      <td>0.12947</td>\n      <td>0.12964</td>\n    </tr>\n    <tr>\n      <th>DB_8001338</th>\n      <td>1800</td>\n      <td>Coburg</td>\n      <td>5</td>\n      <td>0.15152</td>\n      <td>0.00000</td>\n      <td>0.00006</td>\n      <td>0.00229</td>\n      <td>0.25085</td>\n      <td>0.00170</td>\n      <td>0.15152</td>\n      <td>0.00000</td>\n      <td>0.86141</td>\n      <td>0.00399</td>\n      <td>0.98263</td>\n      <td>0.08723</td>\n      <td>0.41020</td>\n    </tr>\n    <tr>\n      <th>DB_8000105</th>\n      <td>1800</td>\n      <td>Frankfurt(Main)Hbf</td>\n      <td>21</td>\n      <td>0.63636</td>\n      <td>0.15912</td>\n      <td>0.00007</td>\n      <td>0.01039</td>\n      <td>0.01591</td>\n      <td>0.00692</td>\n      <td>0.63636</td>\n      <td>0.65634</td>\n      <td>0.96417</td>\n      <td>0.01814</td>\n      <td>0.06233</td>\n      <td>0.35485</td>\n      <td>0.42261</td>\n    </tr>\n  </tbody>\n</table>\n<p>475 rows × 16 columns</p>\n</div>"
     },
     "execution_count": 74,
     "metadata": {},
     "output_type": "execute_result"
    }
   ],
   "source": [
    "t_node_df"
   ],
   "metadata": {
    "collapsed": false,
    "ExecuteTime": {
     "end_time": "2024-02-12T20:15:17.256381700Z",
     "start_time": "2024-02-12T20:15:17.219354400Z"
    }
   }
  },
  {
   "cell_type": "code",
   "execution_count": 77,
   "outputs": [
    {
     "data": {
      "text/plain": "            boarding_cost                 name  degree  centrality  \\\nnode_id                                                              \nDB_8000025           1800              Bamberg       9     0.31081   \nDB_8505004           1800          Arth-Goldau       2     0.13083   \nDB_8000253           1800  Mönchengladbach Hbf       4     0.16982   \nDB_8089124           1800  Frankfurt(Oder)(Gr)       4     0.18199   \nDB_8000192           1800     Wanne-Eickel Hbf       4     0.20606   \n...                   ...                  ...     ...         ...   \nDB_8100353           1800       Flughafen Wien       1     0.00597   \nDB_8010355           1800              Velgast       5     0.14926   \nDB_8010033           1800     Bergen auf Rügen       4     0.12964   \nDB_8001338           1800               Coburg       5     0.41020   \nDB_8000105           1800   Frankfurt(Main)Hbf      21     0.42261   \n\n            centrality_degree  centrality_betweenness  centrality_closeness  \\\nnode_id                                                                       \nDB_8000025            0.27273                 0.00984               0.00006   \nDB_8505004            0.06061                 0.02401               0.00004   \nDB_8000253            0.12121                 0.01115               0.00006   \nDB_8089124            0.12121                 0.05821               0.00005   \nDB_8000192            0.12121                 0.03055               0.00006   \n...                       ...                     ...                   ...   \nDB_8100353            0.03030                 0.00000               0.00000   \nDB_8010355            0.15152                 0.00960               0.00004   \nDB_8010033            0.12121                 0.00401               0.00004   \nDB_8001338            0.15152                 0.00000               0.00006   \nDB_8000105            0.63636                 0.15912               0.00007   \n\n            centrality_eigenvector  centrality_clustering  \\\nnode_id                                                     \nDB_8000025                 0.00273                0.10573   \nDB_8505004                 0.00000                0.00000   \nDB_8000253                 0.00000                0.00000   \nDB_8089124                 0.00000                0.00000   \nDB_8000192                 0.00012                0.01879   \n...                            ...                    ...   \nDB_8100353                -0.00000                0.00000   \nDB_8010355                 0.00000                0.01739   \nDB_8010033                 0.00000                0.00000   \nDB_8001338                 0.00229                0.25085   \nDB_8000105                 0.01039                0.01591   \n\n            centrality_pagerank  centrality_degree_scaled  \\\nnode_id                                                     \nDB_8000025              0.00258                   0.27273   \nDB_8505004              0.00148                   0.06061   \nDB_8000253              0.00122                   0.12121   \nDB_8089124              0.00129                   0.12121   \nDB_8000192              0.00050                   0.12121   \n...                         ...                       ...   \nDB_8100353              0.00032                   0.03030   \nDB_8010355              0.00114                   0.15152   \nDB_8010033              0.00253                   0.12121   \nDB_8001338              0.00170                   0.15152   \nDB_8000105              0.00692                   0.63636   \n\n            centrality_betweenness_scaled  centrality_closeness_scaled  \\\nnode_id                                                                  \nDB_8000025                        0.04059                      0.87475   \nDB_8505004                        0.09904                      0.53737   \nDB_8000253                        0.04598                      0.77024   \nDB_8089124                        0.24010                      0.66277   \nDB_8000192                        0.12603                      0.83547   \n...                                   ...                          ...   \nDB_8100353                        0.00000                      0.00000   \nDB_8010355                        0.03961                      0.55921   \nDB_8010033                        0.01654                      0.52238   \nDB_8001338                        0.00000                      0.86141   \nDB_8000105                        0.65634                      0.96417   \n\n            centrality_eigenvector_scaled  centrality_clustering_scaled  \\\nnode_id                                                                   \nDB_8000025                        0.00476                       0.41414   \nDB_8505004                        0.00000                       0.00000   \nDB_8000253                        0.00000                       0.00000   \nDB_8089124                        0.00000                       0.00000   \nDB_8000192                        0.00022                       0.07361   \n...                                   ...                           ...   \nDB_8100353                       -0.00000                       0.00000   \nDB_8010355                        0.00000                       0.06811   \nDB_8010033                        0.00000                       0.00000   \nDB_8001338                        0.00399                       0.98263   \nDB_8000105                        0.01814                       0.06233   \n\n            centrality_pagerank_scaled  \nnode_id                                 \nDB_8000025                     0.13239  \nDB_8505004                     0.07611  \nDB_8000253                     0.06270  \nDB_8089124                     0.06628  \nDB_8000192                     0.02576  \n...                                ...  \nDB_8100353                     0.01666  \nDB_8010355                     0.05867  \nDB_8010033                     0.12947  \nDB_8001338                     0.08723  \nDB_8000105                     0.35485  \n\n[475 rows x 16 columns]",
      "text/html": "<div>\n<style scoped>\n    .dataframe tbody tr th:only-of-type {\n        vertical-align: middle;\n    }\n\n    .dataframe tbody tr th {\n        vertical-align: top;\n    }\n\n    .dataframe thead th {\n        text-align: right;\n    }\n</style>\n<table border=\"1\" class=\"dataframe\">\n  <thead>\n    <tr style=\"text-align: right;\">\n      <th></th>\n      <th>boarding_cost</th>\n      <th>name</th>\n      <th>degree</th>\n      <th>centrality</th>\n      <th>centrality_degree</th>\n      <th>centrality_betweenness</th>\n      <th>centrality_closeness</th>\n      <th>centrality_eigenvector</th>\n      <th>centrality_clustering</th>\n      <th>centrality_pagerank</th>\n      <th>centrality_degree_scaled</th>\n      <th>centrality_betweenness_scaled</th>\n      <th>centrality_closeness_scaled</th>\n      <th>centrality_eigenvector_scaled</th>\n      <th>centrality_clustering_scaled</th>\n      <th>centrality_pagerank_scaled</th>\n    </tr>\n    <tr>\n      <th>node_id</th>\n      <th></th>\n      <th></th>\n      <th></th>\n      <th></th>\n      <th></th>\n      <th></th>\n      <th></th>\n      <th></th>\n      <th></th>\n      <th></th>\n      <th></th>\n      <th></th>\n      <th></th>\n      <th></th>\n      <th></th>\n      <th></th>\n    </tr>\n  </thead>\n  <tbody>\n    <tr>\n      <th>DB_8000025</th>\n      <td>1800</td>\n      <td>Bamberg</td>\n      <td>9</td>\n      <td>0.31081</td>\n      <td>0.27273</td>\n      <td>0.00984</td>\n      <td>0.00006</td>\n      <td>0.00273</td>\n      <td>0.10573</td>\n      <td>0.00258</td>\n      <td>0.27273</td>\n      <td>0.04059</td>\n      <td>0.87475</td>\n      <td>0.00476</td>\n      <td>0.41414</td>\n      <td>0.13239</td>\n    </tr>\n    <tr>\n      <th>DB_8505004</th>\n      <td>1800</td>\n      <td>Arth-Goldau</td>\n      <td>2</td>\n      <td>0.13083</td>\n      <td>0.06061</td>\n      <td>0.02401</td>\n      <td>0.00004</td>\n      <td>0.00000</td>\n      <td>0.00000</td>\n      <td>0.00148</td>\n      <td>0.06061</td>\n      <td>0.09904</td>\n      <td>0.53737</td>\n      <td>0.00000</td>\n      <td>0.00000</td>\n      <td>0.07611</td>\n    </tr>\n    <tr>\n      <th>DB_8000253</th>\n      <td>1800</td>\n      <td>Mönchengladbach Hbf</td>\n      <td>4</td>\n      <td>0.16982</td>\n      <td>0.12121</td>\n      <td>0.01115</td>\n      <td>0.00006</td>\n      <td>0.00000</td>\n      <td>0.00000</td>\n      <td>0.00122</td>\n      <td>0.12121</td>\n      <td>0.04598</td>\n      <td>0.77024</td>\n      <td>0.00000</td>\n      <td>0.00000</td>\n      <td>0.06270</td>\n    </tr>\n    <tr>\n      <th>DB_8089124</th>\n      <td>1800</td>\n      <td>Frankfurt(Oder)(Gr)</td>\n      <td>4</td>\n      <td>0.18199</td>\n      <td>0.12121</td>\n      <td>0.05821</td>\n      <td>0.00005</td>\n      <td>0.00000</td>\n      <td>0.00000</td>\n      <td>0.00129</td>\n      <td>0.12121</td>\n      <td>0.24010</td>\n      <td>0.66277</td>\n      <td>0.00000</td>\n      <td>0.00000</td>\n      <td>0.06628</td>\n    </tr>\n    <tr>\n      <th>DB_8000192</th>\n      <td>1800</td>\n      <td>Wanne-Eickel Hbf</td>\n      <td>4</td>\n      <td>0.20606</td>\n      <td>0.12121</td>\n      <td>0.03055</td>\n      <td>0.00006</td>\n      <td>0.00012</td>\n      <td>0.01879</td>\n      <td>0.00050</td>\n      <td>0.12121</td>\n      <td>0.12603</td>\n      <td>0.83547</td>\n      <td>0.00022</td>\n      <td>0.07361</td>\n      <td>0.02576</td>\n    </tr>\n    <tr>\n      <th>...</th>\n      <td>...</td>\n      <td>...</td>\n      <td>...</td>\n      <td>...</td>\n      <td>...</td>\n      <td>...</td>\n      <td>...</td>\n      <td>...</td>\n      <td>...</td>\n      <td>...</td>\n      <td>...</td>\n      <td>...</td>\n      <td>...</td>\n      <td>...</td>\n      <td>...</td>\n      <td>...</td>\n    </tr>\n    <tr>\n      <th>DB_8100353</th>\n      <td>1800</td>\n      <td>Flughafen Wien</td>\n      <td>1</td>\n      <td>0.00597</td>\n      <td>0.03030</td>\n      <td>0.00000</td>\n      <td>0.00000</td>\n      <td>-0.00000</td>\n      <td>0.00000</td>\n      <td>0.00032</td>\n      <td>0.03030</td>\n      <td>0.00000</td>\n      <td>0.00000</td>\n      <td>-0.00000</td>\n      <td>0.00000</td>\n      <td>0.01666</td>\n    </tr>\n    <tr>\n      <th>DB_8010355</th>\n      <td>1800</td>\n      <td>Velgast</td>\n      <td>5</td>\n      <td>0.14926</td>\n      <td>0.15152</td>\n      <td>0.00960</td>\n      <td>0.00004</td>\n      <td>0.00000</td>\n      <td>0.01739</td>\n      <td>0.00114</td>\n      <td>0.15152</td>\n      <td>0.03961</td>\n      <td>0.55921</td>\n      <td>0.00000</td>\n      <td>0.06811</td>\n      <td>0.05867</td>\n    </tr>\n    <tr>\n      <th>DB_8010033</th>\n      <td>1800</td>\n      <td>Bergen auf Rügen</td>\n      <td>4</td>\n      <td>0.12964</td>\n      <td>0.12121</td>\n      <td>0.00401</td>\n      <td>0.00004</td>\n      <td>0.00000</td>\n      <td>0.00000</td>\n      <td>0.00253</td>\n      <td>0.12121</td>\n      <td>0.01654</td>\n      <td>0.52238</td>\n      <td>0.00000</td>\n      <td>0.00000</td>\n      <td>0.12947</td>\n    </tr>\n    <tr>\n      <th>DB_8001338</th>\n      <td>1800</td>\n      <td>Coburg</td>\n      <td>5</td>\n      <td>0.41020</td>\n      <td>0.15152</td>\n      <td>0.00000</td>\n      <td>0.00006</td>\n      <td>0.00229</td>\n      <td>0.25085</td>\n      <td>0.00170</td>\n      <td>0.15152</td>\n      <td>0.00000</td>\n      <td>0.86141</td>\n      <td>0.00399</td>\n      <td>0.98263</td>\n      <td>0.08723</td>\n    </tr>\n    <tr>\n      <th>DB_8000105</th>\n      <td>1800</td>\n      <td>Frankfurt(Main)Hbf</td>\n      <td>21</td>\n      <td>0.42261</td>\n      <td>0.63636</td>\n      <td>0.15912</td>\n      <td>0.00007</td>\n      <td>0.01039</td>\n      <td>0.01591</td>\n      <td>0.00692</td>\n      <td>0.63636</td>\n      <td>0.65634</td>\n      <td>0.96417</td>\n      <td>0.01814</td>\n      <td>0.06233</td>\n      <td>0.35485</td>\n    </tr>\n  </tbody>\n</table>\n<p>475 rows × 16 columns</p>\n</div>"
     },
     "execution_count": 77,
     "metadata": {},
     "output_type": "execute_result"
    }
   ],
   "source": [
    "tmp = node_df.copy()\n",
    "node_cols = node_df.columns.to_list()\n",
    "node_cols = node_cols[:3] + [node_cols[-1]] + node_cols[3:-1]\n",
    "tmp[node_cols]"
   ],
   "metadata": {
    "collapsed": false,
    "ExecuteTime": {
     "end_time": "2024-02-12T20:19:06.940857200Z",
     "start_time": "2024-02-12T20:19:06.908859800Z"
    }
   }
  },
  {
   "cell_type": "code",
   "execution_count": 73,
   "outputs": [
    {
     "data": {
      "text/plain": "            centrality  centrality_degree  centrality_betweenness  \\\nnode_id                                                             \nDB_8000025     0.27273            0.00984                 0.00006   \nDB_8505004     0.06061            0.02401                 0.00004   \nDB_8000253     0.12121            0.01115                 0.00006   \nDB_8089124     0.12121            0.05821                 0.00005   \nDB_8000192     0.12121            0.03055                 0.00006   \n...                ...                ...                     ...   \nDB_8100353     0.03030            0.00000                 0.00000   \nDB_8010355     0.15152            0.00960                 0.00004   \nDB_8010033     0.12121            0.00401                 0.00004   \nDB_8001338     0.15152            0.00000                 0.00006   \nDB_8000105     0.63636            0.15912                 0.00007   \n\n            centrality_closeness  centrality_eigenvector  \\\nnode_id                                                    \nDB_8000025               0.00273                 0.10573   \nDB_8505004               0.00000                 0.00000   \nDB_8000253               0.00000                 0.00000   \nDB_8089124               0.00000                 0.00000   \nDB_8000192               0.00012                 0.01879   \n...                          ...                     ...   \nDB_8100353              -0.00000                 0.00000   \nDB_8010355               0.00000                 0.01739   \nDB_8010033               0.00000                 0.00000   \nDB_8001338               0.00229                 0.25085   \nDB_8000105               0.01039                 0.01591   \n\n            centrality_clustering  centrality_pagerank  \\\nnode_id                                                  \nDB_8000025                0.00258              0.27273   \nDB_8505004                0.00148              0.06061   \nDB_8000253                0.00122              0.12121   \nDB_8089124                0.00129              0.12121   \nDB_8000192                0.00050              0.12121   \n...                           ...                  ...   \nDB_8100353                0.00032              0.03030   \nDB_8010355                0.00114              0.15152   \nDB_8010033                0.00253              0.12121   \nDB_8001338                0.00170              0.15152   \nDB_8000105                0.00692              0.63636   \n\n            centrality_degree_scaled  centrality_betweenness_scaled  \\\nnode_id                                                               \nDB_8000025                   0.04059                        0.87475   \nDB_8505004                   0.09904                        0.53737   \nDB_8000253                   0.04598                        0.77024   \nDB_8089124                   0.24010                        0.66277   \nDB_8000192                   0.12603                        0.83547   \n...                              ...                            ...   \nDB_8100353                   0.00000                        0.00000   \nDB_8010355                   0.03961                        0.55921   \nDB_8010033                   0.01654                        0.52238   \nDB_8001338                   0.00000                        0.86141   \nDB_8000105                   0.65634                        0.96417   \n\n            centrality_closeness_scaled  centrality_eigenvector_scaled  \\\nnode_id                                                                  \nDB_8000025                      0.00476                        0.41414   \nDB_8505004                      0.00000                        0.00000   \nDB_8000253                      0.00000                        0.00000   \nDB_8089124                      0.00000                        0.00000   \nDB_8000192                      0.00022                        0.07361   \n...                                 ...                            ...   \nDB_8100353                     -0.00000                        0.00000   \nDB_8010355                      0.00000                        0.06811   \nDB_8010033                      0.00000                        0.00000   \nDB_8001338                      0.00399                        0.98263   \nDB_8000105                      0.01814                        0.06233   \n\n            centrality_clustering_scaled  centrality_pagerank_scaled  \nnode_id                                                               \nDB_8000025                       0.13239                     0.31081  \nDB_8505004                       0.07611                     0.13083  \nDB_8000253                       0.06270                     0.16982  \nDB_8089124                       0.06628                     0.18199  \nDB_8000192                       0.02576                     0.20606  \n...                                  ...                         ...  \nDB_8100353                       0.01666                     0.00597  \nDB_8010355                       0.05867                     0.14926  \nDB_8010033                       0.12947                     0.12964  \nDB_8001338                       0.08723                     0.41020  \nDB_8000105                       0.35485                     0.42261  \n\n[475 rows x 13 columns]",
      "text/html": "<div>\n<style scoped>\n    .dataframe tbody tr th:only-of-type {\n        vertical-align: middle;\n    }\n\n    .dataframe tbody tr th {\n        vertical-align: top;\n    }\n\n    .dataframe thead th {\n        text-align: right;\n    }\n</style>\n<table border=\"1\" class=\"dataframe\">\n  <thead>\n    <tr style=\"text-align: right;\">\n      <th></th>\n      <th>centrality</th>\n      <th>centrality_degree</th>\n      <th>centrality_betweenness</th>\n      <th>centrality_closeness</th>\n      <th>centrality_eigenvector</th>\n      <th>centrality_clustering</th>\n      <th>centrality_pagerank</th>\n      <th>centrality_degree_scaled</th>\n      <th>centrality_betweenness_scaled</th>\n      <th>centrality_closeness_scaled</th>\n      <th>centrality_eigenvector_scaled</th>\n      <th>centrality_clustering_scaled</th>\n      <th>centrality_pagerank_scaled</th>\n    </tr>\n    <tr>\n      <th>node_id</th>\n      <th></th>\n      <th></th>\n      <th></th>\n      <th></th>\n      <th></th>\n      <th></th>\n      <th></th>\n      <th></th>\n      <th></th>\n      <th></th>\n      <th></th>\n      <th></th>\n      <th></th>\n    </tr>\n  </thead>\n  <tbody>\n    <tr>\n      <th>DB_8000025</th>\n      <td>0.27273</td>\n      <td>0.00984</td>\n      <td>0.00006</td>\n      <td>0.00273</td>\n      <td>0.10573</td>\n      <td>0.00258</td>\n      <td>0.27273</td>\n      <td>0.04059</td>\n      <td>0.87475</td>\n      <td>0.00476</td>\n      <td>0.41414</td>\n      <td>0.13239</td>\n      <td>0.31081</td>\n    </tr>\n    <tr>\n      <th>DB_8505004</th>\n      <td>0.06061</td>\n      <td>0.02401</td>\n      <td>0.00004</td>\n      <td>0.00000</td>\n      <td>0.00000</td>\n      <td>0.00148</td>\n      <td>0.06061</td>\n      <td>0.09904</td>\n      <td>0.53737</td>\n      <td>0.00000</td>\n      <td>0.00000</td>\n      <td>0.07611</td>\n      <td>0.13083</td>\n    </tr>\n    <tr>\n      <th>DB_8000253</th>\n      <td>0.12121</td>\n      <td>0.01115</td>\n      <td>0.00006</td>\n      <td>0.00000</td>\n      <td>0.00000</td>\n      <td>0.00122</td>\n      <td>0.12121</td>\n      <td>0.04598</td>\n      <td>0.77024</td>\n      <td>0.00000</td>\n      <td>0.00000</td>\n      <td>0.06270</td>\n      <td>0.16982</td>\n    </tr>\n    <tr>\n      <th>DB_8089124</th>\n      <td>0.12121</td>\n      <td>0.05821</td>\n      <td>0.00005</td>\n      <td>0.00000</td>\n      <td>0.00000</td>\n      <td>0.00129</td>\n      <td>0.12121</td>\n      <td>0.24010</td>\n      <td>0.66277</td>\n      <td>0.00000</td>\n      <td>0.00000</td>\n      <td>0.06628</td>\n      <td>0.18199</td>\n    </tr>\n    <tr>\n      <th>DB_8000192</th>\n      <td>0.12121</td>\n      <td>0.03055</td>\n      <td>0.00006</td>\n      <td>0.00012</td>\n      <td>0.01879</td>\n      <td>0.00050</td>\n      <td>0.12121</td>\n      <td>0.12603</td>\n      <td>0.83547</td>\n      <td>0.00022</td>\n      <td>0.07361</td>\n      <td>0.02576</td>\n      <td>0.20606</td>\n    </tr>\n    <tr>\n      <th>...</th>\n      <td>...</td>\n      <td>...</td>\n      <td>...</td>\n      <td>...</td>\n      <td>...</td>\n      <td>...</td>\n      <td>...</td>\n      <td>...</td>\n      <td>...</td>\n      <td>...</td>\n      <td>...</td>\n      <td>...</td>\n      <td>...</td>\n    </tr>\n    <tr>\n      <th>DB_8100353</th>\n      <td>0.03030</td>\n      <td>0.00000</td>\n      <td>0.00000</td>\n      <td>-0.00000</td>\n      <td>0.00000</td>\n      <td>0.00032</td>\n      <td>0.03030</td>\n      <td>0.00000</td>\n      <td>0.00000</td>\n      <td>-0.00000</td>\n      <td>0.00000</td>\n      <td>0.01666</td>\n      <td>0.00597</td>\n    </tr>\n    <tr>\n      <th>DB_8010355</th>\n      <td>0.15152</td>\n      <td>0.00960</td>\n      <td>0.00004</td>\n      <td>0.00000</td>\n      <td>0.01739</td>\n      <td>0.00114</td>\n      <td>0.15152</td>\n      <td>0.03961</td>\n      <td>0.55921</td>\n      <td>0.00000</td>\n      <td>0.06811</td>\n      <td>0.05867</td>\n      <td>0.14926</td>\n    </tr>\n    <tr>\n      <th>DB_8010033</th>\n      <td>0.12121</td>\n      <td>0.00401</td>\n      <td>0.00004</td>\n      <td>0.00000</td>\n      <td>0.00000</td>\n      <td>0.00253</td>\n      <td>0.12121</td>\n      <td>0.01654</td>\n      <td>0.52238</td>\n      <td>0.00000</td>\n      <td>0.00000</td>\n      <td>0.12947</td>\n      <td>0.12964</td>\n    </tr>\n    <tr>\n      <th>DB_8001338</th>\n      <td>0.15152</td>\n      <td>0.00000</td>\n      <td>0.00006</td>\n      <td>0.00229</td>\n      <td>0.25085</td>\n      <td>0.00170</td>\n      <td>0.15152</td>\n      <td>0.00000</td>\n      <td>0.86141</td>\n      <td>0.00399</td>\n      <td>0.98263</td>\n      <td>0.08723</td>\n      <td>0.41020</td>\n    </tr>\n    <tr>\n      <th>DB_8000105</th>\n      <td>0.63636</td>\n      <td>0.15912</td>\n      <td>0.00007</td>\n      <td>0.01039</td>\n      <td>0.01591</td>\n      <td>0.00692</td>\n      <td>0.63636</td>\n      <td>0.65634</td>\n      <td>0.96417</td>\n      <td>0.01814</td>\n      <td>0.06233</td>\n      <td>0.35485</td>\n      <td>0.42261</td>\n    </tr>\n  </tbody>\n</table>\n<p>475 rows × 13 columns</p>\n</div>"
     },
     "execution_count": 73,
     "metadata": {},
     "output_type": "execute_result"
    }
   ],
   "source": [
    "tmp.iloc[:, 3:].round(5)"
   ],
   "metadata": {
    "collapsed": false,
    "ExecuteTime": {
     "end_time": "2024-02-12T20:14:21.504751800Z",
     "start_time": "2024-02-12T20:14:21.459404300Z"
    }
   }
  },
  {
   "cell_type": "code",
   "execution_count": 26,
   "outputs": [],
   "source": [
    "graph_stats = pd.read_csv(os.path.join(RESULTS_PATH, \"graph_stats.csv\"), index_col=\"metric\")\n"
   ],
   "metadata": {
    "collapsed": false,
    "ExecuteTime": {
     "end_time": "2024-02-14T13:32:17.882386400Z",
     "start_time": "2024-02-14T13:32:17.868386800Z"
    }
   }
  },
  {
   "cell_type": "code",
   "execution_count": 14,
   "outputs": [
    {
     "data": {
      "text/plain": "Index(['Nodes', 'Edges', 'Density', 'Strong Giant Component',\n       'Weak Giant Component', 'Avg Degree', 'Centrality Mean',\n       'Centrality Degree Mean', 'Centrality Betweenness Mean',\n       'Centrality Closeness Mean', 'Centrality Eigenvector Mean',\n       'Clustering Coefficient Mean', 'Pagerank Mean'],\n      dtype='object', name='metric')"
     },
     "execution_count": 14,
     "metadata": {},
     "output_type": "execute_result"
    }
   ],
   "source": [
    "\n",
    "graph_stats.rename(columns=rename_dict).columns.str.replace(\"_\", \" \").str.replace(\"GC\", \"giant component\").str.title()"
   ],
   "metadata": {
    "collapsed": false,
    "ExecuteTime": {
     "end_time": "2024-02-14T13:29:36.577790600Z",
     "start_time": "2024-02-14T13:29:36.543790100Z"
    }
   }
  },
  {
   "cell_type": "code",
   "execution_count": 16,
   "outputs": [],
   "source": [
    "graph_stats = graph_stats.round(5)"
   ],
   "metadata": {
    "collapsed": false,
    "ExecuteTime": {
     "end_time": "2024-02-14T13:30:08.848795300Z",
     "start_time": "2024-02-14T13:30:08.820971200Z"
    }
   }
  },
  {
   "cell_type": "code",
   "execution_count": 24,
   "outputs": [],
   "source": [],
   "metadata": {
    "collapsed": false,
    "ExecuteTime": {
     "end_time": "2024-02-14T13:32:10.042927800Z",
     "start_time": "2024-02-14T13:32:10.029890600Z"
    }
   }
  },
  {
   "cell_type": "code",
   "execution_count": 29,
   "outputs": [
    {
     "data": {
      "text/plain": "                 global_measures\nmetric                          \nnodes                 475.000000\nedges                1179.000000\ndensity                 0.005237\nstrong_GC               0.922105\nweak_GC                 0.978947\navg_degree              4.964211\nglobal_c_mean           0.190509\nglobal_cd_mean          0.150431\nglobal_cb_mean          0.024181\nglobal_cc_mean          0.000047\nglobal_ce_mean          0.008300\nglobal_ccc_mean         0.023053\nglobal_cp_mean          0.002105",
      "text/html": "<div>\n<style scoped>\n    .dataframe tbody tr th:only-of-type {\n        vertical-align: middle;\n    }\n\n    .dataframe tbody tr th {\n        vertical-align: top;\n    }\n\n    .dataframe thead th {\n        text-align: right;\n    }\n</style>\n<table border=\"1\" class=\"dataframe\">\n  <thead>\n    <tr style=\"text-align: right;\">\n      <th></th>\n      <th>global_measures</th>\n    </tr>\n    <tr>\n      <th>metric</th>\n      <th></th>\n    </tr>\n  </thead>\n  <tbody>\n    <tr>\n      <th>nodes</th>\n      <td>475.000000</td>\n    </tr>\n    <tr>\n      <th>edges</th>\n      <td>1179.000000</td>\n    </tr>\n    <tr>\n      <th>density</th>\n      <td>0.005237</td>\n    </tr>\n    <tr>\n      <th>strong_GC</th>\n      <td>0.922105</td>\n    </tr>\n    <tr>\n      <th>weak_GC</th>\n      <td>0.978947</td>\n    </tr>\n    <tr>\n      <th>avg_degree</th>\n      <td>4.964211</td>\n    </tr>\n    <tr>\n      <th>global_c_mean</th>\n      <td>0.190509</td>\n    </tr>\n    <tr>\n      <th>global_cd_mean</th>\n      <td>0.150431</td>\n    </tr>\n    <tr>\n      <th>global_cb_mean</th>\n      <td>0.024181</td>\n    </tr>\n    <tr>\n      <th>global_cc_mean</th>\n      <td>0.000047</td>\n    </tr>\n    <tr>\n      <th>global_ce_mean</th>\n      <td>0.008300</td>\n    </tr>\n    <tr>\n      <th>global_ccc_mean</th>\n      <td>0.023053</td>\n    </tr>\n    <tr>\n      <th>global_cp_mean</th>\n      <td>0.002105</td>\n    </tr>\n  </tbody>\n</table>\n</div>"
     },
     "execution_count": 29,
     "metadata": {},
     "output_type": "execute_result"
    }
   ],
   "source": [
    "graph_stats"
   ],
   "metadata": {
    "collapsed": false,
    "ExecuteTime": {
     "end_time": "2024-02-14T14:11:34.519832300Z",
     "start_time": "2024-02-14T14:11:34.490828500Z"
    }
   }
  },
  {
   "cell_type": "code",
   "execution_count": 33,
   "outputs": [
    {
     "data": {
      "text/plain": "5"
     },
     "execution_count": 33,
     "metadata": {},
     "output_type": "execute_result"
    }
   ],
   "source": [
    "tmp = prettify_graph_stats(graph_stats)\n",
    "tmp = pd.concat([tmp]*5, ignore_index=True)\n",
    "len(tmp.to_dict(orient=\"records\"))"
   ],
   "metadata": {
    "collapsed": false,
    "ExecuteTime": {
     "end_time": "2024-02-14T14:12:46.943278900Z",
     "start_time": "2024-02-14T14:12:46.926284Z"
    }
   }
  },
  {
   "cell_type": "code",
   "execution_count": null,
   "outputs": [],
   "source": [],
   "metadata": {
    "collapsed": false
   }
  }
 ],
 "metadata": {
  "kernelspec": {
   "display_name": "Python 3",
   "language": "python",
   "name": "python3"
  },
  "language_info": {
   "codemirror_mode": {
    "name": "ipython",
    "version": 2
   },
   "file_extension": ".py",
   "mimetype": "text/x-python",
   "name": "python",
   "nbconvert_exporter": "python",
   "pygments_lexer": "ipython2",
   "version": "2.7.6"
  }
 },
 "nbformat": 4,
 "nbformat_minor": 0
}
